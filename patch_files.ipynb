{
 "cells": [
  {
   "cell_type": "code",
   "execution_count": 1,
   "id": "a0cca975",
   "metadata": {},
   "outputs": [
    {
     "name": "stdout",
     "output_type": "stream",
     "text": [
      "/home/user/Downloads/Robotic/T5.2/v2\n"
     ]
    }
   ],
   "source": [
    "!pwd"
   ]
  },
  {
   "cell_type": "code",
   "execution_count": 1,
   "id": "ca2a758a",
   "metadata": {},
   "outputs": [
    {
     "name": "stdout",
     "output_type": "stream",
     "text": [
      "Cloning into 'yolact'...\n",
      "remote: Enumerating objects: 2936, done.\u001b[K\n",
      "remote: Total 2936 (delta 0), reused 0 (delta 0), pack-reused 2936 (from 1)\u001b[K\n",
      "Receiving objects: 100% (2936/2936), 21.20 MiB | 18.80 MiB/s, done.\n",
      "Resolving deltas: 100% (2002/2002), done.\n"
     ]
    }
   ],
   "source": [
    "# %cd /content/\n",
    "# !rm -rf yolact\n",
    "!git clone https://github.com/dbolya/yolact.git\n",
    "# !mkdir weights\n",
    "# !wget https://download.pytorch.org/models/resnet50-19c8e357.pth -O weights/resnet50-19c8e357.pth"
   ]
  },
  {
   "cell_type": "code",
   "execution_count": 1,
   "id": "9992bf5f",
   "metadata": {},
   "outputs": [
    {
     "name": "stdout",
     "output_type": "stream",
     "text": [
      "/home/user/Downloads/Robotic/T5.2/v2/yolact_2025\n"
     ]
    }
   ],
   "source": [
    "%cd yolact_2025"
   ]
  },
  {
   "cell_type": "code",
   "execution_count": 2,
   "id": "8514061c",
   "metadata": {},
   "outputs": [
    {
     "name": "stdout",
     "output_type": "stream",
     "text": [
      "\n",
      "Applying all patches to files on disk...\n",
      "-> Comprehensive patch applied for `random` library conflicts.\n",
      "-> Patch applied for ResNetBackbone weight loading.\n",
      "-> Patches applied to yolact.py for prior generation.\n",
      "\n",
      "All setup and patching is complete. A kernel restart is required.\n"
     ]
    }
   ],
   "source": [
    "# %%\n",
    "# ========================================================================================\n",
    "# CELL 1: UNIFIED SETUP, CLONE, PATCH, AND RESTART\n",
    "# ========================================================================================\n",
    "# Run this cell once at the very beginning of your session.\n",
    "\n",
    "import os\n",
    "\n",
    "# # --- 1. MOUNT DRIVE AND INSTALL DEPENDENCIES ---\n",
    "# from google.colab import drive\n",
    "# drive.mount(\"/content/drive\", force_remount=True)\n",
    "# !pip install pycocotools\n",
    "\n",
    "# # --- 2. START WITH A FRESH CLONE ---\n",
    "# print(\"Ensuring a clean start by re-cloning the repository...\")\n",
    "# %cd /content/\n",
    "# !rm -rf yolact\n",
    "# !git clone https://github.com/dbolya/yolact.git\n",
    "# %cd /content/yolact/\n",
    "# !mkdir -p weights\n",
    "# !wget https://download.pytorch.org/models/resnet50-19c8e357.pth -O weights/resnet50-19c8e357.pth\n",
    "# print(\"Fresh clone and weight download complete.\")\n",
    "\n",
    "\n",
    "# --- 3. APPLY ALL PATCHES TO THE FILES ON DISK ---\n",
    "print(\"\\nApplying all patches to files on disk...\")\n",
    "\n",
    "# PATCH 3A: Comprehensive fix for `utils/augmentations.py`\n",
    "file_to_patch_aug = 'utils/augmentations.py'\n",
    "try:\n",
    "    with open(file_to_patch_aug, 'r') as f: content = f.read()\n",
    "    if 'from numpy import random' in content:\n",
    "        content = content.replace('from numpy import random', 'import random')\n",
    "        content = content.replace('random.randint(2)', 'random.randint(0, 1)')\n",
    "        content = content.replace('k = random.randint(4)', 'k = random.randint(0, 3)')\n",
    "        content = content.replace('left = random.uniform(width - w)', 'left = random.uniform(0, width - w)')\n",
    "        content = content.replace('top = random.uniform(height - h)', 'top = random.uniform(0, height - h)')\n",
    "        with open(file_to_patch_aug, 'w') as f: f.write(content)\n",
    "        print(\"-> Comprehensive patch applied for `random` library conflicts.\")\n",
    "    else: print(\"-> File utils/augmentations.py already appears to be patched.\")\n",
    "except FileNotFoundError: print(f\"Error: Could not find the file {file_to_patch_aug}\")\n",
    "\n",
    "# PATCH 3B: Text Patch for `backbone.py`\n",
    "file_to_patch_backbone = 'backbone.py'\n",
    "original_line_backbone = \"        self.load_state_dict(torch.load(path), strict=False)\"\n",
    "final_correct_line_backbone = \"        device = next(self.parameters()).device\\n        self.load_state_dict(torch.load(path, map_location=device, weights_only=False), strict=False)\"\n",
    "try:\n",
    "    with open(file_to_patch_backbone, 'r') as f: content = f.read()\n",
    "    if original_line_backbone in content:\n",
    "        content = content.replace(original_line_backbone, final_correct_line_backbone)\n",
    "        with open(file_to_patch_backbone, 'w') as f: f.write(content)\n",
    "        print(\"-> Patch applied for ResNetBackbone weight loading.\")\n",
    "    else: print(\"-> File backbone.py already appears to be patched.\")\n",
    "except FileNotFoundError: print(f\"Error: Could not find the file {file_to_patch_backbone}\")\n",
    "\n",
    "# PATCH 3C: Text Patch for `yolact.py` (THE CORRECTED TARGET)\n",
    "file_to_patch_yolact = 'yolact.py'\n",
    "bad_line_tensor = '                self.priors = torch.Tensor(prior_data, device=device).view(-1, 4).detach()'\n",
    "good_line_tensor = '                self.priors = torch.tensor(prior_data, device=device, dtype=torch.float32).view(-1, 4).detach()'\n",
    "try:\n",
    "    with open(file_to_patch_yolact, 'r') as f: content = f.read()\n",
    "    if bad_line_tensor in content:\n",
    "        # Also bypass the cython nms import in this file\n",
    "        content = content.replace(\"from utils.cython_nms import nms as cnms\", \"# from utils.cython_nms import nms as cnms # Patched out\")\n",
    "        content = content.replace(bad_line_tensor, good_line_tensor)\n",
    "        with open(file_to_patch_yolact, 'w') as f: f.write(content)\n",
    "        print(\"-> Patches applied to yolact.py for prior generation.\")\n",
    "    else: print(\"-> File yolact.py already appears to be patched.\")\n",
    "except FileNotFoundError: print(f\"Error: Could not find the file {file_to_patch_yolact}\")\n",
    "\n",
    "print(\"\\nAll setup and patching is complete. A kernel restart is required.\")\n"
   ]
  }
 ],
 "metadata": {
  "kernelspec": {
   "display_name": "myenv",
   "language": "python",
   "name": "myenv"
  },
  "language_info": {
   "codemirror_mode": {
    "name": "ipython",
    "version": 3
   },
   "file_extension": ".py",
   "mimetype": "text/x-python",
   "name": "python",
   "nbconvert_exporter": "python",
   "pygments_lexer": "ipython3",
   "version": "3.11.13"
  }
 },
 "nbformat": 4,
 "nbformat_minor": 5
}
