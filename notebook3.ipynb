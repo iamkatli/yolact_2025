{
 "cells": [
  {
   "cell_type": "code",
   "execution_count": 19,
   "id": "8c1ce9c5",
   "metadata": {},
   "outputs": [
    {
     "name": "stdout",
     "output_type": "stream",
     "text": [
      "backbone.py\t external\t  notebook3.ipynb   scripts\t weights\n",
      "CHANGELOG.md\t layers\t\t  notebook.ipynb    train_o1.py  yolact_cpu.py\n",
      "data\t\t LICENSE\t  __pycache__\t    train.py\t yolact.py\n",
      "environment.yml  logs\t\t  README.md\t    utils\n",
      "eval.py\t\t notebook2.ipynb  run_coco_eval.py  web\n"
     ]
    }
   ],
   "source": [
    "!ls"
   ]
  },
  {
   "cell_type": "code",
   "execution_count": 20,
   "id": "d6a1a1c0",
   "metadata": {},
   "outputs": [],
   "source": [
    "# # Clone the official YOLACT repository\n",
    "# !git clone https://github.com/dbolya/yolact.git\n",
    "# %cd yolact\n",
    "\n",
    "# # Install required packages\n",
    "# !pip install torch torchvision opencv-python Pillow pycocotools matplotlib"
   ]
  },
  {
   "cell_type": "code",
   "execution_count": 21,
   "id": "cae96935",
   "metadata": {},
   "outputs": [],
   "source": [
    "# # Create the weights directory\n",
    "# !mkdir -p weights\n",
    "\n",
    "# # Download the pre-trained backbone weights for ResNet-101\n",
    "# !wget https://s3.amazonaws.com/images.criterion.com/models/yolact/resnet101_reducedfc.pth -P weights/\n",
    "# print(\"Backbone weights downloaded.\")"
   ]
  },
  {
   "cell_type": "code",
   "execution_count": 22,
   "id": "400695f6",
   "metadata": {},
   "outputs": [
    {
     "name": "stdout",
     "output_type": "stream",
     "text": [
      "YOLACT model and helper classes defined.\n"
     ]
    }
   ],
   "source": [
    "# This cell contains the full, CPU-safe model definition from your yolact_cpu.py file,\n",
    "# AND a patch for the loss function to prevent the RuntimeError.\n",
    "\n",
    "import torch, torchvision\n",
    "import torch.nn as nn\n",
    "import torch.nn.functional as F\n",
    "from torchvision.models.resnet import Bottleneck\n",
    "import numpy as np\n",
    "from itertools import product\n",
    "from math import sqrt\n",
    "from typing import List\n",
    "from collections import defaultdict\n",
    "from data.config import cfg, mask_type, activation_func\n",
    "from layers import Detect\n",
    "from layers.interpolate import InterpolateModule\n",
    "from backbone import construct_backbone\n",
    "import torch.backends.cudnn as cudnn\n",
    "from utils import timer\n",
    "from utils.functions import MovingAverage, make_net\n",
    "from yolact import Yolact, FPN, PredictionModule\n",
    "\n",
    "import importlib.util\n",
    "import sys\n",
    "\n",
    "# ------------------- PATCH FOR multibox_loss.py -------------------\n",
    "# This patch fixes a numerical instability issue in the original loss function.\n",
    "#!!!!!!!!!!!!!!!!!!!!!!!!!!!!!!!!!!!\n",
    "# print(\"Applying numerical stability patch to MultiBoxLoss...\")\n",
    "\n",
    "# file_path = 'layers/modules/multibox_loss.py'\n",
    "# module_name = 'layers.modules.multibox_loss'\n",
    "\n",
    "# with open(file_path, 'r') as f:\n",
    "#     multibox_loss_code = f.read()\n",
    "\n",
    "# # Replace the unstable BCE loss with the stable BCEWithLogitsLoss\n",
    "# # 1. Remove the explicit sigmoid activation on the predicted masks\n",
    "# original_line_1 = 'pred_masks = cfg.mask_proto_mask_activation(pred_masks)'\n",
    "# replacement_1 = '# pred_masks = cfg.mask_proto_mask_activation(pred_masks) # Patched out for numerical stability'\n",
    "# multibox_loss_code_fixed = multibox_loss_code.replace(original_line_1, replacement_1)\n",
    "\n",
    "# # 2. Replace the BCE function with the version that takes logits\n",
    "# original_line_2 = 'pre_loss = F.binary_cross_entropy(torch.clamp(pred_masks, 0, 1), mask_t, reduction=\\'none\\')'\n",
    "# replacement_2 = 'pre_loss = F.binary_cross_entropy_with_logits(pred_masks, mask_t, reduction=\\'none\\')'\n",
    "# multibox_loss_code_fixed = multibox_loss_code_fixed.replace(original_line_2, replacement_2)\n",
    "\n",
    "# # Load the patched code as a module\n",
    "# spec = importlib.util.spec_from_loader(module_name, loader=None, origin=file_path)\n",
    "# multibox_loss_module = importlib.util.module_from_spec(spec)\n",
    "# exec(multibox_loss_code_fixed, multibox_loss_module.__dict__)\n",
    "# sys.modules[module_name] = multibox_loss_module\n",
    "\n",
    "# print(\"Patch applied successfully.\")\n",
    "#!!!!!!!!!!!!!!!!!!!!!!!!!!!!!!!!!!!\n",
    "# --------------------------------------------------------------------\n",
    "\n",
    "# Now that the patched module is loaded, we can import from it\n",
    "from layers.modules.multibox_loss import MultiBoxLoss\n",
    "\n",
    "\n",
    "# This is the corrected CUDA initialization from your yolact_cpu.py\n",
    "# if torch.cuda.is_available():\n",
    "#     torch.cuda.current_device()\n",
    "# else:\n",
    "#     print(\"⚠️ CUDA not available, running on CPU.\")\n",
    "\n",
    "# # --- The full, corrected code from yolact_cpu.py starts here ---\n",
    "# # (This is the same code as the previous step, defining Yolact and its dependencies)\n",
    "# use_jit = torch.cuda.device_count() <= 1\n",
    "# if not use_jit:\n",
    "#     print('Multiple GPUs detected! Turning off JIT.')\n",
    "\n",
    "# ScriptModuleWrapper = torch.jit.ScriptModule if use_jit else nn.Module\n",
    "# # ... (The rest of the full Yolact class and its dependencies (PredictionModule, FPN, etc.) go here)\n",
    "# class Yolact(nn.Module):\n",
    "#     # ... (Full Yolact class definition from previous step)\n",
    "#     def __init__(self):\n",
    "#         super().__init__()\n",
    "#         self.backbone = construct_backbone(cfg.backbone)\n",
    "#         if cfg.freeze_bn: self.freeze_bn()\n",
    "#         if cfg.mask_type == mask_type.direct: cfg.mask_dim = cfg.mask_size**2\n",
    "#         elif cfg.mask_type == mask_type.lincomb:\n",
    "#             if cfg.mask_proto_use_grid:\n",
    "#                 self.grid = torch.Tensor(np.load(cfg.mask_proto_grid_file))\n",
    "#                 self.num_grids = self.grid.size(0)\n",
    "#             else: self.num_grids = 0\n",
    "#             self.proto_src = cfg.mask_proto_src\n",
    "#             if self.proto_src is None: in_channels = 3\n",
    "#             elif cfg.fpn is not None: in_channels = cfg.fpn.num_features\n",
    "#             else: in_channels = self.backbone.channels[self.proto_src]\n",
    "#             in_channels += self.num_grids\n",
    "#             self.proto_net, cfg.mask_dim = make_net(in_channels, cfg.mask_proto_net, include_last_relu=False)\n",
    "#             if cfg.mask_proto_bias: cfg.mask_dim += 1\n",
    "#         self.selected_layers = cfg.backbone.selected_layers\n",
    "#         src_channels = self.backbone.channels\n",
    "#         if cfg.use_maskiou: self.maskiou_net = FastMaskIoUNet()\n",
    "#         if cfg.fpn is not None:\n",
    "#             self.fpn = FPN([src_channels[i] for i in self.selected_layers])\n",
    "#             self.selected_layers = list(range(len(self.selected_layers) + cfg.fpn.num_downsample))\n",
    "#             src_channels = [cfg.fpn.num_features] * len(self.selected_layers)\n",
    "#         self.prediction_layers = nn.ModuleList()\n",
    "#         cfg.num_heads = len(self.selected_layers)\n",
    "#         for idx, layer_idx in enumerate(self.selected_layers):\n",
    "#             parent = self.prediction_layers[0] if cfg.share_prediction_module and idx > 0 else None\n",
    "#             pred = PredictionModule(src_channels[layer_idx], src_channels[layer_idx],\n",
    "#                                     aspect_ratios = cfg.backbone.pred_aspect_ratios[idx],\n",
    "#                                     scales        = cfg.backbone.pred_scales[idx],\n",
    "#                                     parent=parent, index=idx)\n",
    "#             self.prediction_layers.append(pred)\n",
    "#         if cfg.use_class_existence_loss:\n",
    "#             self.class_existence_fc = nn.Linear(src_channels[-1], cfg.num_classes - 1)\n",
    "#         if cfg.use_semantic_segmentation_loss:\n",
    "#             self.semantic_seg_conv = nn.Conv2d(src_channels[0], cfg.num_classes-1, kernel_size=1)\n",
    "#         self.detect = Detect(cfg.num_classes, bkg_label=0, top_k=cfg.nms_top_k, conf_thresh=cfg.nms_conf_thresh, nms_thresh=cfg.nms_thresh)\n",
    "#     def save_weights(self, path): torch.save(self.state_dict(), path)\n",
    "#     def load_weights(self, path, device='cpu'): # Added device parameter\n",
    "#         state_dict = torch.load(path, map_location=device) \n",
    "#         self.load_state_dict(state_dict)\n",
    "#     def init_weights(self, backbone_path):\n",
    "#         self.backbone.init_backbone(backbone_path)\n",
    "#         for name, module in self.named_modules():\n",
    "#             is_conv_layer = isinstance(module, nn.Conv2d)\n",
    "#             if is_conv_layer and module not in self.backbone.backbone_modules:\n",
    "#                 nn.init.xavier_uniform_(module.weight.data)\n",
    "#                 if module.bias is not None:\n",
    "#                     module.bias.data.zero_()\n",
    "#     def train(self, mode=True):\n",
    "#         super().train(mode)\n",
    "#         if cfg.freeze_bn: self.freeze_bn()\n",
    "#     def freeze_bn(self, enable=False):\n",
    "#         for module in self.modules():\n",
    "#             if isinstance(module, nn.BatchNorm2d):\n",
    "#                 module.train() if enable else module.eval()\n",
    "#                 module.weight.requires_grad = enable\n",
    "#                 module.bias.requires_grad = enable\n",
    "#     def forward(self, x):\n",
    "#         _, _, img_h, img_w = x.size()\n",
    "#         cfg._tmp_img_h, cfg._tmp_img_w = img_h, img_w\n",
    "#         outs = self.backbone(x)\n",
    "#         if cfg.fpn is not None:\n",
    "#             outs = [outs[i] for i in cfg.backbone.selected_layers]\n",
    "#             outs = self.fpn(outs)\n",
    "#         proto_out = None\n",
    "#         if cfg.mask_type == mask_type.lincomb and cfg.eval_mask_branch:\n",
    "#             proto_x = x if self.proto_src is None else outs[self.proto_src]\n",
    "#             proto_out = self.proto_net(proto_x)\n",
    "#             proto_out = cfg.mask_proto_prototype_activation(proto_out)\n",
    "#             proto_out = proto_out.permute(0, 2, 3, 1).contiguous()\n",
    "#             if cfg.mask_proto_bias:\n",
    "#                 bias_shape = [x for x in proto_out.size()]\n",
    "#                 bias_shape[-1] = 1\n",
    "#                 proto_out = torch.cat([proto_out, torch.ones(*bias_shape, device=x.device)], -1)\n",
    "#         pred_outs = { 'loc': [], 'conf': [], 'mask': [], 'priors': [] }\n",
    "#         if cfg.use_mask_scoring: pred_outs['score'] = []\n",
    "#         if cfg.use_instance_coeff: pred_outs['inst'] = []\n",
    "#         for idx, pred_layer in zip(self.selected_layers, self.prediction_layers):\n",
    "#             p = pred_layer(outs[idx])\n",
    "#             for k, v in p.items(): pred_outs[k].append(v)\n",
    "#         for k, v in pred_outs.items():\n",
    "#             pred_outs[k] = torch.cat(v, -2)\n",
    "#         if proto_out is not None: pred_outs['proto'] = proto_out\n",
    "#         if self.training:\n",
    "#             if cfg.use_semantic_segmentation_loss:\n",
    "#                 pred_outs['segm'] = self.semantic_seg_conv(outs[0])\n",
    "#             return pred_outs\n",
    "#         else:\n",
    "#             pred_outs['conf'] = F.softmax(pred_outs['conf'], -1)\n",
    "#             return self.detect(pred_outs, self)\n",
    "# --- Training Helper Class ---\n",
    "class NetLoss(nn.Module):\n",
    "    def __init__(self, net:Yolact, criterion:MultiBoxLoss):\n",
    "        super().__init__()\n",
    "        self.net = net\n",
    "        self.criterion = criterion\n",
    "    \n",
    "    def forward(self, images, targets, masks, num_crowds):\n",
    "        preds = self.net(images)\n",
    "        losses = self.criterion(self.net, preds, targets, masks, num_crowds)\n",
    "        return losses\n",
    "\n",
    "\n",
    "#!!!!!!!!!!!!!!!!!!!!!!!!!!!!!!!!!!!!!!!!!!!!!!!!!!!!!!!!!\n",
    "# --- A simple class to mimic the command-line arguments ---\n",
    "class Args:\n",
    "    def __init__(self, use_cuda):\n",
    "        self.batch_size = 4\n",
    "        self.resume = None\n",
    "        self.start_iter = -1\n",
    "        self.num_workers = 0\n",
    "        self.cuda = use_cuda\n",
    "        self.lr = 1e-3\n",
    "        self.momentum = 0.9\n",
    "        self.decay = 5e-4\n",
    "        self.gamma = 0.1\n",
    "        self.save_folder = 'weights/'\n",
    "        self.log_folder = 'logs/'\n",
    "        self.config = None\n",
    "        self.save_interval = 200 # Set a lower save interval for the short test\n",
    "        self.validation_epoch = -1 # Disable validation for this simple example\n",
    "        self.keep_latest = True\n",
    "        self.log = True\n",
    "\n",
    "print(\"YOLACT model and helper classes defined.\")\n"
   ]
  },
  {
   "cell_type": "code",
   "execution_count": 23,
   "id": "c336d16f",
   "metadata": {},
   "outputs": [
    {
     "name": "stdout",
     "output_type": "stream",
     "text": [
      "Configuration is set.\n",
      "Number of classes: 7\n",
      "Using CUDA: False\n"
     ]
    }
   ],
   "source": [
    "from data.config import Config, yolact_base_config, resnet50_backbone, mask_type, fpn_base\n",
    "\n",
    "# ----------------- CONFIGURATION -----------------\n",
    "# Set this to True to use a GPU, or False to use the CPU.\n",
    "USE_CUDA = False\n",
    "# -----------------------------------------------\n",
    "\n",
    "# Define your custom dataset paths and class names\n",
    "dataset_base = Config({\n",
    "    'name': 'My Dataset',\n",
    "    'train_images': 'data/my_dataset/train',\n",
    "    'train_info':   'data/my_dataset/train/_annotations.coco.json',\n",
    "    'valid_images': 'data/my_dataset/valid',\n",
    "    'valid_info':   'data/my_dataset/valid/_annotations.coco.json',\n",
    "    'class_names': ('bench', 'chair', 'couch', 'dining table', 'laptop', 'person'),\n",
    "    'has_gt': True,      # FIX: This was missing\n",
    "    'label_map': None,   # FIX: This was missing\n",
    "})\n",
    "\n",
    "# Create your custom config by overriding the base_config\n",
    "yolact_my_config = yolact_base_config.copy({\n",
    "    'name': 'yolact_custom',\n",
    "    # FIX: Use the imported resnet50_backbone configuration\n",
    "    'backbone': resnet50_backbone.copy({\n",
    "        'selected_layers': list(range(1, 4)),\n",
    "        'pred_scales': [[24], [48], [96], [192], [384]],\n",
    "        'pred_aspect_ratios': [ [[1, 1/2, 2]] ]*5,\n",
    "        'use_pixel_scales': True,\n",
    "        'preapply_sqrt': False,\n",
    "        'use_square_anchors': True,\n",
    "}),\n",
    "    # 'backbone': resnet50_backbone.copy(),\n",
    "    'dataset': dataset_base,\n",
    "    'num_classes': len(dataset_base.class_names) + 1,\n",
    "    'max_iter': 10,     # Using a low number for a quick test run\n",
    "    'lr_steps': (120, 160, 180),\n",
    "    # 'lr_steps': (120, 160, 180),\n",
    "})\n",
    "\n",
    "# --- Activate Configuration ---\n",
    "cfg.replace(yolact_my_config)\n",
    "# Add the missing debug attribute to prevent the AttributeError in postprocess()\n",
    "cfg.mask_proto_debug = False\n",
    "print(\"Configuration is set.\")\n",
    "print(f\"Number of classes: {cfg.num_classes}\")\n",
    "print(f\"Using CUDA: {USE_CUDA}\")"
   ]
  },
  {
   "cell_type": "code",
   "execution_count": 24,
   "id": "5238ff30",
   "metadata": {},
   "outputs": [],
   "source": [
    "import torch.optim as optim\n",
    "import torch.utils.data as data\n",
    "import datetime\n",
    "import os\n",
    "from data import COCODetection, detection_collate\n",
    "from utils.augmentations import SSDAugmentation\n",
    "\n",
    "def train():\n",
    "    args = Args(use_cuda=USE_CUDA)\n",
    "    \n",
    "    if not os.path.exists(args.save_folder):\n",
    "        os.mkdir(args.save_folder)\n",
    "        \n",
    "    device = torch.device('cuda' if args.cuda and torch.cuda.is_available() else 'cpu')\n",
    "    \n",
    "    if args.cuda and torch.cuda.is_available():\n",
    "        torch.set_default_tensor_type('torch.cuda.FloatTensor')\n",
    "    else:\n",
    "        torch.set_default_tensor_type('torch.FloatTensor')\n",
    "\n",
    "    dataset = COCODetection(image_path=cfg.dataset.train_images,\n",
    "                            info_file=cfg.dataset.train_info,\n",
    "                            transform=SSDAugmentation())\n",
    "\n",
    "    yolact_net = Yolact().to(device)\n",
    "    yolact_net.train()\n",
    "\n",
    "    print('Initializing weights...')\n",
    "    yolact_net.init_weights(backbone_path=args.save_folder + cfg.backbone.path)\n",
    "\n",
    "    optimizer = optim.SGD(yolact_net.parameters(), lr=args.lr, momentum=args.momentum, weight_decay=args.decay)\n",
    "    criterion = MultiBoxLoss(num_classes=cfg.num_classes,\n",
    "                             pos_threshold=cfg.positive_iou_threshold,\n",
    "                             neg_threshold=cfg.negative_iou_threshold,\n",
    "                             negpos_ratio=cfg.ohem_negpos_ratio)\n",
    "    \n",
    "    net = NetLoss(yolact_net, criterion).to(device)\n",
    "\n",
    "    data_loader = data.DataLoader(dataset, args.batch_size,\n",
    "                                  num_workers=args.num_workers,\n",
    "                                  shuffle=True, collate_fn=detection_collate,\n",
    "                                  pin_memory=False)\n",
    "\n",
    "    iteration = 0\n",
    "    print('\\nBegin training!')\n",
    "    for epoch in range(100):\n",
    "        if iteration >= cfg.max_iter:\n",
    "            break\n",
    "            \n",
    "        for datum in data_loader:\n",
    "            if iteration >= cfg.max_iter:\n",
    "                break\n",
    "\n",
    "            images, (targets, masks, num_crowds) = datum\n",
    "            \n",
    "            # Move data to the correct device\n",
    "            images = torch.stack(images, 0).to(device)\n",
    "            targets = [ann.to(device) for ann in targets]\n",
    "            masks = [mask.to(device) for mask in masks]\n",
    "\n",
    "            optimizer.zero_grad()\n",
    "            \n",
    "            losses = net(images, targets, masks, num_crowds)\n",
    "            \n",
    "            losses = { k: v.mean() for k, v in losses.items() }\n",
    "            loss = sum(losses.values())\n",
    "            \n",
    "            loss.backward()\n",
    "            optimizer.step()\n",
    "\n",
    "            if iteration % 10 == 0:\n",
    "                print(f'[{iteration:5d}] Loss: {loss.item():.4f}')\n",
    "\n",
    "            if iteration % args.save_interval == 0 and iteration != 0:\n",
    "                print(f'Saving state, iter: {iteration}')\n",
    "                yolact_net.save_weights(f'{args.save_folder}/yolact_custom_{iteration}.pth')\n",
    "            \n",
    "            iteration += 1\n",
    "            \n",
    "    yolact_net.save_weights(f'{args.save_folder}/yolact_custom_final.pth')\n",
    "    print(\"Training finished.\")\n",
    "\n"
   ]
  },
  {
   "cell_type": "code",
   "execution_count": 25,
   "id": "06f8e41e",
   "metadata": {},
   "outputs": [
    {
     "name": "stdout",
     "output_type": "stream",
     "text": [
      "loading annotations into memory...\n"
     ]
    },
    {
     "name": "stdout",
     "output_type": "stream",
     "text": [
      "Done (t=0.02s)\n",
      "creating index...\n",
      "index created!\n",
      "Initializing weights...\n",
      "\n",
      "Begin training!\n",
      "Warning: Augmentation output an example with no ground truth. Resampling...\n",
      "[    0] Loss: 1750.6454\n",
      "Warning: Augmentation output an example with no ground truth. Resampling...\n",
      "Warning: Augmentation output an example with no ground truth. Resampling...\n",
      "Training finished.\n"
     ]
    }
   ],
   "source": [
    "# Start the training process\n",
    "train()"
   ]
  },
  {
   "cell_type": "code",
   "execution_count": 26,
   "id": "5187d6e5",
   "metadata": {},
   "outputs": [],
   "source": [
    "# This cell contains all the necessary helper classes and functions from eval.py,\n",
    "# adapted to work within this notebook.\n",
    "\n",
    "import pycocotools\n",
    "from layers.box_utils import jaccard, mask_iou\n",
    "from utils.functions import ProgressBar\n",
    "from collections import OrderedDict\n",
    "from utils.functions import MovingAverage, ProgressBar\n",
    "\n",
    "# --- Helper Classes and Functions from eval.py ---\n",
    "#!!!!!!!!!!!!!!!!!!!!!!!!!!!!!\n",
    "# coco_cats = {}\n",
    "# coco_cats_inv = {}\n",
    "\n",
    "# def prep_coco_cats():\n",
    "#     \"\"\" Prepare inverted table for category id lookup. \"\"\"\n",
    "#     if len(coco_cats) > 0: return\n",
    "    \n",
    "#     for coco_cat_id, transformed_cat_id_p1 in cfg.dataset.label_map.items():\n",
    "#         transformed_cat_id = transformed_cat_id_p1 - 1\n",
    "#         coco_cats[transformed_cat_id] = coco_cat_id\n",
    "#         coco_cats_inv[coco_cat_id] = transformed_cat_id\n",
    "\n",
    "# def get_coco_cat(transformed_cat_id):\n",
    "#     return coco_cats[transformed_cat_id]\n",
    "\n",
    "\n",
    "# class APDataObject:\n",
    "#     \"\"\" Stores all the information necessary to calculate the AP for one IoU and one class. \"\"\"\n",
    "#     def __init__(self):\n",
    "#         self.data_points = []\n",
    "#         self.num_gt_positives = 0\n",
    "\n",
    "#     def push(self, score:float, is_true:bool):\n",
    "#         self.data_points.append((score, is_true))\n",
    "    \n",
    "#     def add_gt_positives(self, num_positives:int):\n",
    "#         self.num_gt_positives += num_positives\n",
    "\n",
    "#     def is_empty(self) -> bool:\n",
    "#         return len(self.data_points) == 0 and self.num_gt_positives == 0\n",
    "\n",
    "#     def get_ap(self) -> float:\n",
    "#         \"\"\" Warning: result not cached. \"\"\"\n",
    "#         if self.num_gt_positives == 0:\n",
    "#             return 0\n",
    "\n",
    "#         self.data_points.sort(key=lambda x: -x[0])\n",
    "\n",
    "#         precisions, recalls = [], []\n",
    "#         num_true, num_false = 0, 0\n",
    "\n",
    "#         for datum in self.data_points:\n",
    "#             if datum[1]: num_true += 1\n",
    "#             else: num_false += 1\n",
    "            \n",
    "#             precision = num_true / (num_true + num_false)\n",
    "#             recall    = num_true / self.num_gt_positives\n",
    "\n",
    "#             precisions.append(precision)\n",
    "#             recalls.append(recall)\n",
    "\n",
    "#         for i in range(len(precisions)-1, 0, -1):\n",
    "#             if precisions[i] > precisions[i-1]:\n",
    "#                 precisions[i-1] = precisions[i]\n",
    "\n",
    "#         y_range = [0] * 101\n",
    "#         x_range = np.array([x / 100 for x in range(101)])\n",
    "#         recalls = np.array(recalls)\n",
    "\n",
    "#         indices = np.searchsorted(recalls, x_range, side='left')\n",
    "#         for bar_idx, precision_idx in enumerate(indices):\n",
    "#             if precision_idx < len(precisions):\n",
    "#                 y_range[bar_idx] = precisions[precision_idx]\n",
    "\n",
    "#         return sum(y_range) / len(y_range)\n",
    "\n",
    "# def calc_map(ap_data):\n",
    "#     print('Calculating mAP...')\n",
    "#     aps = [{'box': [], 'mask': []} for _ in iou_thresholds]\n",
    "\n",
    "#     for _class in range(len(cfg.dataset.class_names)):\n",
    "#         for iou_idx in range(len(iou_thresholds)):\n",
    "#             for iou_type in ('box', 'mask'):\n",
    "#                 ap_obj = ap_data[iou_type][iou_idx][_class]\n",
    "#                 if not ap_obj.is_empty():\n",
    "#                     aps[iou_idx][iou_type].append(ap_obj.get_ap())\n",
    "\n",
    "#     all_maps = {'box': OrderedDict(), 'mask': OrderedDict()}\n",
    "\n",
    "#     for iou_type in ('box', 'mask'):\n",
    "#         all_maps[iou_type]['all'] = 0\n",
    "#         for i, threshold in enumerate(iou_thresholds):\n",
    "#             mAP = sum(aps[i][iou_type]) / len(aps[i][iou_type]) * 100 if len(aps[i][iou_type]) > 0 else 0\n",
    "#             all_maps[iou_type][int(threshold*100)] = mAP\n",
    "#         all_maps[iou_type]['all'] = (sum(all_maps[iou_type].values()) / (len(all_maps[iou_type].values())-1))\n",
    "    \n",
    "#     return all_maps\n",
    "\n",
    "# def print_maps(all_maps):\n",
    "#     make_row = lambda vals: (' %5s |' * len(vals)) % tuple(vals)\n",
    "#     make_sep = lambda n:  ('-------+' * n)\n",
    "#     print()\n",
    "#     print(make_row([''] + [('.%d ' % x if isinstance(x, int) else x + ' ') for x in all_maps['box'].keys()]))\n",
    "#     print(make_sep(len(all_maps['box']) + 1))\n",
    "#     for iou_type in ('box', 'mask'):\n",
    "#         print(make_row([iou_type] + ['%.2f' % x if x < 100 else '%.1f' % x for x in all_maps[iou_type].values()]))\n",
    "#     print(make_sep(len(all_maps['box']) + 1))\n",
    "#     print()\n",
    "\n",
    "\n",
    "# iou_thresholds = [x / 100 for x in range(50, 100, 5)]\n",
    "\n",
    "# print(\"Evaluation helper functions and classes defined.\")\n",
    "#!!!!!!!!!!!!!!!!!!!!!!!!!!!!!"
   ]
  },
  {
   "cell_type": "code",
   "execution_count": 27,
   "id": "ba4c893a",
   "metadata": {},
   "outputs": [],
   "source": [
    "from layers.output_utils import postprocess\n",
    "from eval import APDataObject, iou_thresholds, prep_coco_cats, evaluate, print_maps, calc_map\n",
    "from data import COCODetection, get_label_map, MEANS, COLORS\n",
    "from yolact import Yolact\n",
    "from utils.augmentations import BaseTransform, FastBaseTransform, Resize\n",
    "from utils.functions import MovingAverage, ProgressBar\n",
    "from layers.box_utils import jaccard, center_size, mask_iou\n",
    "from utils import timer\n",
    "from utils.functions import SavePath\n",
    "from layers.output_utils import postprocess, undo_image_transformation\n",
    "import pycocotools\n",
    "\n",
    "from data import cfg, set_cfg, set_dataset\n",
    "\n",
    "import numpy as np\n",
    "import torch\n",
    "import torch.backends.cudnn as cudnn\n",
    "from torch.autograd import Variable\n",
    "import argparse\n",
    "import time\n",
    "import random\n",
    "import cProfile\n",
    "import pickle\n",
    "import json\n",
    "import os\n",
    "from collections import defaultdict\n",
    "from pathlib import Path\n",
    "from collections import OrderedDict\n",
    "from PIL import Image\n",
    "\n",
    "import matplotlib.pyplot as plt\n",
    "import cv2\n",
    "\n",
    "def evaluate(net:Yolact, dataset, device):\n",
    "    net.eval()\n",
    "    \n",
    "    # Setup\n",
    "    if cfg.dataset.label_map is None:\n",
    "        cfg.dataset.label_map = {x+1: x+1 for x in range(len(cfg.dataset.class_names))}\n",
    "    prep_coco_cats()\n",
    "    \n",
    "    ap_data = {\n",
    "        'box' : [[APDataObject() for _ in cfg.dataset.class_names] for _ in iou_thresholds],\n",
    "        'mask': [[APDataObject() for _ in cfg.dataset.class_names] for _ in iou_thresholds]\n",
    "    }\n",
    "    dataset_size = len(dataset)\n",
    "    progress_bar = ProgressBar(30, dataset_size)\n",
    "    \n",
    "    print('\\nEvaluating Performance...') # (I fixed a small typo here for you too)\n",
    "\n",
    "    # --- THIS IS THE CRITICAL FIX ---\n",
    "    # Wrap the entire evaluation loop in a no_grad context\n",
    "    with torch.no_grad():\n",
    "        try:\n",
    "            for image_idx in range(len(dataset)):\n",
    "                img, gt, gt_masks, h, w, num_crowd = dataset.pull_item(image_idx)\n",
    "                \n",
    "                batch = img.unsqueeze(0).to(device)\n",
    "                preds = net(batch)\n",
    "\n",
    "                # Perform postprocessing and metric preparation\n",
    "                classes, scores, boxes, masks = postprocess(preds, w, h, score_threshold=cfg.nms_conf_thresh)\n",
    "                \n",
    "                if classes.size(0) != 0:\n",
    "                    # Move everything to the CPU for metric calculation\n",
    "                    classes, scores, boxes, masks = [x.cpu() for x in [classes, scores, boxes, masks]]\n",
    "\n",
    "                    # Prepare ground truth\n",
    "                    gt_boxes = torch.Tensor(gt[:, :4]); gt_boxes[:, [0, 2]] *= w; gt_boxes[:, [1, 3]] *= h\n",
    "                    gt_classes = list(gt[:, 4].astype(int))\n",
    "                    gt_masks = torch.Tensor(gt_masks).view(-1, h*w)\n",
    "\n",
    "                    # The rest of this is the core logic from prep_metrics\n",
    "                    num_pred, num_gt = len(classes), len(gt_classes)\n",
    "                    mask_iou_cache = mask_iou(masks, gt_masks)\n",
    "                    bbox_iou_cache = jaccard(boxes, gt_boxes)\n",
    "                    \n",
    "                    box_indices = sorted(range(num_pred), key=lambda i: -scores[i])\n",
    "                    mask_indices = sorted(box_indices, key=lambda i: -scores[i])\n",
    "                    \n",
    "                    iou_types = [\n",
    "                        ('box', lambda i,j: bbox_iou_cache[i, j].item(), scores, box_indices),\n",
    "                        ('mask', lambda i,j: mask_iou_cache[i, j].item(), scores, mask_indices)\n",
    "                    ]\n",
    "\n",
    "                    for _class in set(gt_classes):\n",
    "                        for iou_idx, iou_threshold in enumerate(iou_thresholds):\n",
    "                            for iou_type, iou_func, score_func, indices in iou_types:\n",
    "                                gt_used = [False] * num_gt\n",
    "                                ap_obj = ap_data[iou_type][iou_idx][_class]\n",
    "                                ap_obj.add_gt_positives(sum([1 for x in gt_classes if x == _class]))\n",
    "\n",
    "                                for i in indices:\n",
    "                                    if classes[i] != _class: continue\n",
    "                                    max_iou_found, max_match_idx = iou_threshold, -1\n",
    "                                    for j in range(num_gt):\n",
    "                                        if gt_used[j] or gt_classes[j] != _class: continue\n",
    "                                        iou = iou_func(i, j)\n",
    "                                        if iou > max_iou_found: max_iou_found, max_match_idx = iou, j\n",
    "                                    \n",
    "                                    if max_match_idx >= 0:\n",
    "                                        gt_used[max_match_idx] = True\n",
    "                                        ap_obj.push(score_func[i], True)\n",
    "                                    else:\n",
    "                                        ap_obj.push(score_func[i], False)\n",
    "                \n",
    "                progress = (image_idx+1) / dataset_size * 100\n",
    "                progress_bar.set_val(image_idx+1)\n",
    "                print(f'\\rProcessing Images  {repr(progress_bar)} {image_idx+1} / {dataset_size} ({progress:5.2f}%)', end='')\n",
    "\n",
    "            # Note: This part should be outside the try...except but still inside the function\n",
    "            # And also outside the with torch.no_grad() block\n",
    "            \n",
    "        except KeyboardInterrupt:\n",
    "            print('Stopping...')\n",
    "            return None\n",
    "\n",
    "    # This calculation happens after the loop is done\n",
    "    all_maps = calc_map(ap_data)\n",
    "    return all_maps"
   ]
  },
  {
   "cell_type": "code",
   "execution_count": 28,
   "id": "f2228e2a",
   "metadata": {},
   "outputs": [
    {
     "name": "stdout",
     "output_type": "stream",
     "text": [
      "Applying in-notebook patch to bypass cython_nms.pyx compilation error...\n",
      "Patch applied successfully. The model will now use the PyTorch NMS.\n"
     ]
    }
   ],
   "source": [
    "# %%\n",
    "# ========================================================================================\n",
    "# MONKEY-PATCH CELL to Bypass Broken Cython NMS\n",
    "# ========================================================================================\n",
    "#\n",
    "# This cell replaces the C-based NMS with a pure PyTorch version from torchvision.\n",
    "# This avoids the Cython compilation error without needing to edit any original project files.\n",
    "\n",
    "import torch\n",
    "import torchvision\n",
    "from layers.functions.detection import Detect\n",
    "\n",
    "print(\"Applying in-notebook patch to bypass cython_nms.pyx compilation error...\")\n",
    "\n",
    "def patched_traditional_nms(self, boxes, masks, scores, iou_threshold, conf_thresh):\n",
    "    \"\"\"\n",
    "    This function replaces the original traditional_nms function.\n",
    "    It uses torchvision.ops.nms, which is a pure PyTorch implementation.\n",
    "    \"\"\"\n",
    "    num_classes = scores.size(0)\n",
    "    idx_lst = []\n",
    "    cls_lst = []\n",
    "    scr_lst = []\n",
    "\n",
    "    # Do NMS for each class separately\n",
    "    for _cls in range(num_classes):\n",
    "        cls_scores = scores[_cls, :]\n",
    "        conf_mask = cls_scores > conf_thresh\n",
    "        \n",
    "        if not conf_mask.any():\n",
    "            continue\n",
    "\n",
    "        # Filter by confidence threshold\n",
    "        _scores = cls_scores[conf_mask]\n",
    "        _boxes = boxes[conf_mask]\n",
    "        \n",
    "        # The core of the replacement: use torchvision's nms\n",
    "        keep = torchvision.ops.nms(_boxes, _scores, iou_threshold)\n",
    "        \n",
    "        # Find original indices of kept boxes\n",
    "        original_indices = torch.where(conf_mask)[0][keep]\n",
    "        \n",
    "        idx_lst.append(original_indices)\n",
    "        cls_lst.extend([_cls] * len(keep))\n",
    "        scr_lst.append(_scores[keep])\n",
    "\n",
    "    if len(idx_lst) == 0:\n",
    "        # Return empty tensors in the correct format if no detections are left\n",
    "        return torch.empty(0, 4, device=boxes.device), \\\n",
    "               torch.empty(0, masks.shape[1], device=masks.device), \\\n",
    "               torch.empty(0, device=boxes.device, dtype=torch.long), \\\n",
    "               torch.empty(0, device=boxes.device)\n",
    "\n",
    "    # Concatenate results from all classes\n",
    "    idx = torch.cat(idx_lst, dim=0)\n",
    "    classes = torch.as_tensor(cls_lst, device=boxes.device)\n",
    "    scores = torch.cat(scr_lst, dim=0)\n",
    "    \n",
    "    # Sort by score across all classes\n",
    "    scores, sort_idx = scores.sort(0, descending=True)\n",
    "    idx = idx[sort_idx]\n",
    "    classes = classes[sort_idx]\n",
    "\n",
    "    # Enforce top_k limit\n",
    "    if idx.size(0) > self.top_k:\n",
    "        idx = idx[:self.top_k]\n",
    "        classes = classes[:self.top_k]\n",
    "        scores = scores[:self.top_k]\n",
    "\n",
    "    return boxes[idx], masks[idx], classes, scores\n",
    "\n",
    "# This is the actual monkey-patch: we replace the problematic method with our new one.\n",
    "Detect.traditional_nms = patched_traditional_nms\n",
    "\n",
    "print(\"Patch applied successfully. The model will now use the PyTorch NMS.\")"
   ]
  },
  {
   "cell_type": "code",
   "execution_count": 29,
   "id": "f4c66d4d",
   "metadata": {},
   "outputs": [
    {
     "name": "stdout",
     "output_type": "stream",
     "text": [
      "cpu\n",
      "Loaded trained weights from: weights/yolact_custom_final.pth\n",
      "loading annotations into memory...\n",
      "Done (t=0.01s)\n",
      "creating index...\n",
      "index created!\n",
      "\n",
      "Evaluating Performance...\n"
     ]
    },
    {
     "name": "stderr",
     "output_type": "stream",
     "text": [
      "[W907 07:21:10.420513681 NNPACK.cpp:56] Could not initialize NNPACK! Reason: Unsupported hardware.\n",
      "[W907 07:21:10.421889710 NNPACK.cpp:56] Could not initialize NNPACK! Reason: Unsupported hardware.\n",
      "[W907 07:21:10.422014693 NNPACK.cpp:56] Could not initialize NNPACK! Reason: Unsupported hardware.\n",
      "[W907 07:21:10.422170834 NNPACK.cpp:56] Could not initialize NNPACK! Reason: Unsupported hardware.\n"
     ]
    },
    {
     "name": "stdout",
     "output_type": "stream",
     "text": [
      "Processing Images  ░░░░░░░░░░░░░░░░░░░░░░░░░░░░░░ 1 / 170 ( 0.59%)"
     ]
    },
    {
     "name": "stderr",
     "output_type": "stream",
     "text": [
      "[W907 07:21:10.317626988 NNPACK.cpp:56] Could not initialize NNPACK! Reason: Unsupported hardware.\n",
      "[W907 07:21:10.318479480 NNPACK.cpp:56] Could not initialize NNPACK! Reason: Unsupported hardware.\n",
      "[W907 07:21:10.318636413 NNPACK.cpp:56] Could not initialize NNPACK! Reason: Unsupported hardware.\n",
      "[W907 07:21:10.319252033 NNPACK.cpp:56] Could not initialize NNPACK! Reason: Unsupported hardware.\n"
     ]
    },
    {
     "name": "stdout",
     "output_type": "stream",
     "text": [
      "Processing Images  ░░░░░░░░░░░░░░░░░░░░░░░░░░░░░░ 2 / 170 ( 1.18%)"
     ]
    },
    {
     "name": "stderr",
     "output_type": "stream",
     "text": [
      "[W907 07:21:11.867976161 NNPACK.cpp:56] Could not initialize NNPACK! Reason: Unsupported hardware.\n",
      "[W907 07:21:11.869176372 NNPACK.cpp:56] Could not initialize NNPACK! Reason: Unsupported hardware.\n",
      "[W907 07:21:11.869385533 NNPACK.cpp:56] Could not initialize NNPACK! Reason: Unsupported hardware.\n",
      "[W907 07:21:11.869615873 NNPACK.cpp:56] Could not initialize NNPACK! Reason: Unsupported hardware.\n"
     ]
    },
    {
     "name": "stdout",
     "output_type": "stream",
     "text": [
      "Processing Images  ░░░░░░░░░░░░░░░░░░░░░░░░░░░░░░ 3 / 170 ( 1.76%)"
     ]
    },
    {
     "name": "stderr",
     "output_type": "stream",
     "text": [
      "[W907 07:21:12.959132062 NNPACK.cpp:56] Could not initialize NNPACK! Reason: Unsupported hardware.\n",
      "[W907 07:21:12.960199285 NNPACK.cpp:56] Could not initialize NNPACK! Reason: Unsupported hardware.\n",
      "[W907 07:21:12.960424074 NNPACK.cpp:56] Could not initialize NNPACK! Reason: Unsupported hardware.\n",
      "[W907 07:21:12.960682006 NNPACK.cpp:56] Could not initialize NNPACK! Reason: Unsupported hardware.\n"
     ]
    },
    {
     "name": "stdout",
     "output_type": "stream",
     "text": [
      "Processing Images  ░░░░░░░░░░░░░░░░░░░░░░░░░░░░░░ 4 / 170 ( 2.35%)"
     ]
    },
    {
     "name": "stderr",
     "output_type": "stream",
     "text": [
      "[W907 07:21:13.423567500 NNPACK.cpp:56] Could not initialize NNPACK! Reason: Unsupported hardware.\n",
      "[W907 07:21:13.424317991 NNPACK.cpp:56] Could not initialize NNPACK! Reason: Unsupported hardware.\n",
      "[W907 07:21:13.424496093 NNPACK.cpp:56] Could not initialize NNPACK! Reason: Unsupported hardware.\n",
      "[W907 07:21:13.425478276 NNPACK.cpp:56] Could not initialize NNPACK! Reason: Unsupported hardware.\n"
     ]
    },
    {
     "name": "stdout",
     "output_type": "stream",
     "text": [
      "Processing Images  ░░░░░░░░░░░░░░░░░░░░░░░░░░░░░░ 5 / 170 ( 2.94%)"
     ]
    },
    {
     "name": "stderr",
     "output_type": "stream",
     "text": [
      "[W907 07:21:13.127286406 NNPACK.cpp:56] Could not initialize NNPACK! Reason: Unsupported hardware.\n",
      "[W907 07:21:13.128183401 NNPACK.cpp:56] Could not initialize NNPACK! Reason: Unsupported hardware.\n",
      "[W907 07:21:13.132849211 NNPACK.cpp:56] Could not initialize NNPACK! Reason: Unsupported hardware.\n",
      "[W907 07:21:13.135821801 NNPACK.cpp:56] Could not initialize NNPACK! Reason: Unsupported hardware.\n"
     ]
    },
    {
     "name": "stdout",
     "output_type": "stream",
     "text": [
      "Processing Images  █░░░░░░░░░░░░░░░░░░░░░░░░░░░░░ 6 / 170 ( 3.53%)"
     ]
    },
    {
     "name": "stderr",
     "output_type": "stream",
     "text": [
      "[W907 07:21:14.811526359 NNPACK.cpp:56] Could not initialize NNPACK! Reason: Unsupported hardware.\n",
      "[W907 07:21:14.812315733 NNPACK.cpp:56] Could not initialize NNPACK! Reason: Unsupported hardware.\n",
      "[W907 07:21:14.812518822 NNPACK.cpp:56] Could not initialize NNPACK! Reason: Unsupported hardware.\n",
      "[W907 07:21:14.812683079 NNPACK.cpp:56] Could not initialize NNPACK! Reason: Unsupported hardware.\n"
     ]
    },
    {
     "name": "stdout",
     "output_type": "stream",
     "text": [
      "Processing Images  █░░░░░░░░░░░░░░░░░░░░░░░░░░░░░ 7 / 170 ( 4.12%)"
     ]
    },
    {
     "name": "stderr",
     "output_type": "stream",
     "text": [
      "[W907 07:21:15.515231921 NNPACK.cpp:56] Could not initialize NNPACK! Reason: Unsupported hardware.\n",
      "[W907 07:21:15.516852607 NNPACK.cpp:56] Could not initialize NNPACK! Reason: Unsupported hardware.\n",
      "[W907 07:21:15.517710318 NNPACK.cpp:56] Could not initialize NNPACK! Reason: Unsupported hardware.\n",
      "[W907 07:21:15.517918637 NNPACK.cpp:56] Could not initialize NNPACK! Reason: Unsupported hardware.\n"
     ]
    },
    {
     "name": "stdout",
     "output_type": "stream",
     "text": [
      "Processing Images  █░░░░░░░░░░░░░░░░░░░░░░░░░░░░░ 8 / 170 ( 4.71%)"
     ]
    },
    {
     "name": "stderr",
     "output_type": "stream",
     "text": [
      "[W907 07:21:16.364240288 NNPACK.cpp:56] Could not initialize NNPACK! Reason: Unsupported hardware.\n",
      "[W907 07:21:16.365023380 NNPACK.cpp:56] Could not initialize NNPACK! Reason: Unsupported hardware.\n",
      "[W907 07:21:16.365242238 NNPACK.cpp:56] Could not initialize NNPACK! Reason: Unsupported hardware.\n",
      "[W907 07:21:16.365432233 NNPACK.cpp:56] Could not initialize NNPACK! Reason: Unsupported hardware.\n"
     ]
    },
    {
     "name": "stdout",
     "output_type": "stream",
     "text": [
      "Processing Images  █░░░░░░░░░░░░░░░░░░░░░░░░░░░░░ 9 / 170 ( 5.29%)"
     ]
    },
    {
     "name": "stderr",
     "output_type": "stream",
     "text": [
      "[W907 07:21:16.350891780 NNPACK.cpp:56] Could not initialize NNPACK! Reason: Unsupported hardware.\n",
      "[W907 07:21:16.354143400 NNPACK.cpp:56] Could not initialize NNPACK! Reason: Unsupported hardware.\n",
      "[W907 07:21:16.354762786 NNPACK.cpp:56] Could not initialize NNPACK! Reason: Unsupported hardware.\n",
      "[W907 07:21:17.357394259 NNPACK.cpp:56] Could not initialize NNPACK! Reason: Unsupported hardware.\n"
     ]
    },
    {
     "name": "stdout",
     "output_type": "stream",
     "text": [
      "Processing Images  █░░░░░░░░░░░░░░░░░░░░░░░░░░░░░ 10 / 170 ( 5.88%)"
     ]
    },
    {
     "name": "stderr",
     "output_type": "stream",
     "text": [
      "[W907 07:21:17.110026389 NNPACK.cpp:56] Could not initialize NNPACK! Reason: Unsupported hardware.\n",
      "[W907 07:21:17.112816026 NNPACK.cpp:56] Could not initialize NNPACK! Reason: Unsupported hardware.\n",
      "[W907 07:21:17.113118641 NNPACK.cpp:56] Could not initialize NNPACK! Reason: Unsupported hardware.\n",
      "[W907 07:21:17.113298687 NNPACK.cpp:56] Could not initialize NNPACK! Reason: Unsupported hardware.\n"
     ]
    },
    {
     "name": "stdout",
     "output_type": "stream",
     "text": [
      "Processing Images  █░░░░░░░░░░░░░░░░░░░░░░░░░░░░░ 11 / 170 ( 6.47%)"
     ]
    },
    {
     "name": "stderr",
     "output_type": "stream",
     "text": [
      "[W907 07:21:18.681822279 NNPACK.cpp:56] Could not initialize NNPACK! Reason: Unsupported hardware.\n",
      "[W907 07:21:18.682759148 NNPACK.cpp:56] Could not initialize NNPACK! Reason: Unsupported hardware.\n",
      "[W907 07:21:18.682916883 NNPACK.cpp:56] Could not initialize NNPACK! Reason: Unsupported hardware.\n",
      "[W907 07:21:18.683047567 NNPACK.cpp:56] Could not initialize NNPACK! Reason: Unsupported hardware.\n"
     ]
    },
    {
     "name": "stdout",
     "output_type": "stream",
     "text": [
      "Processing Images  ██░░░░░░░░░░░░░░░░░░░░░░░░░░░░ 12 / 170 ( 7.06%)"
     ]
    },
    {
     "name": "stderr",
     "output_type": "stream",
     "text": [
      "[W907 07:21:18.212765486 NNPACK.cpp:56] Could not initialize NNPACK! Reason: Unsupported hardware.\n",
      "[W907 07:21:18.213449943 NNPACK.cpp:56] Could not initialize NNPACK! Reason: Unsupported hardware.\n",
      "[W907 07:21:18.213576119 NNPACK.cpp:56] Could not initialize NNPACK! Reason: Unsupported hardware.\n",
      "[W907 07:21:18.213697886 NNPACK.cpp:56] Could not initialize NNPACK! Reason: Unsupported hardware.\n"
     ]
    },
    {
     "name": "stdout",
     "output_type": "stream",
     "text": [
      "Processing Images  ██░░░░░░░░░░░░░░░░░░░░░░░░░░░░ 13 / 170 ( 7.65%)"
     ]
    },
    {
     "name": "stderr",
     "output_type": "stream",
     "text": [
      "[W907 07:21:19.130764766 NNPACK.cpp:56] Could not initialize NNPACK! Reason: Unsupported hardware.\n",
      "[W907 07:21:19.131491904 NNPACK.cpp:56] Could not initialize NNPACK! Reason: Unsupported hardware.\n",
      "[W907 07:21:19.131630242 NNPACK.cpp:56] Could not initialize NNPACK! Reason: Unsupported hardware.\n",
      "[W907 07:21:19.131752720 NNPACK.cpp:56] Could not initialize NNPACK! Reason: Unsupported hardware.\n"
     ]
    },
    {
     "name": "stdout",
     "output_type": "stream",
     "text": [
      "Processing Images  ██░░░░░░░░░░░░░░░░░░░░░░░░░░░░ 14 / 170 ( 8.24%)"
     ]
    },
    {
     "name": "stderr",
     "output_type": "stream",
     "text": [
      "[W907 07:21:20.307172551 NNPACK.cpp:56] Could not initialize NNPACK! Reason: Unsupported hardware.\n",
      "[W907 07:21:20.307985940 NNPACK.cpp:56] Could not initialize NNPACK! Reason: Unsupported hardware.\n",
      "[W907 07:21:20.308210889 NNPACK.cpp:56] Could not initialize NNPACK! Reason: Unsupported hardware.\n",
      "[W907 07:21:20.312978098 NNPACK.cpp:56] Could not initialize NNPACK! Reason: Unsupported hardware.\n"
     ]
    },
    {
     "name": "stdout",
     "output_type": "stream",
     "text": [
      "Processing Images  ██░░░░░░░░░░░░░░░░░░░░░░░░░░░░ 15 / 170 ( 8.82%)"
     ]
    },
    {
     "name": "stderr",
     "output_type": "stream",
     "text": [
      "[W907 07:21:21.196937815 NNPACK.cpp:56] Could not initialize NNPACK! Reason: Unsupported hardware.\n",
      "[W907 07:21:21.197810394 NNPACK.cpp:56] Could not initialize NNPACK! Reason: Unsupported hardware.\n",
      "[W907 07:21:21.198040754 NNPACK.cpp:56] Could not initialize NNPACK! Reason: Unsupported hardware.\n",
      "[W907 07:21:21.199904754 NNPACK.cpp:56] Could not initialize NNPACK! Reason: Unsupported hardware.\n"
     ]
    },
    {
     "name": "stdout",
     "output_type": "stream",
     "text": [
      "Processing Images  ██░░░░░░░░░░░░░░░░░░░░░░░░░░░░ 16 / 170 ( 9.41%)"
     ]
    },
    {
     "name": "stderr",
     "output_type": "stream",
     "text": [
      "[W907 07:21:22.999729415 NNPACK.cpp:56] Could not initialize NNPACK! Reason: Unsupported hardware.\n",
      "[W907 07:21:22.000784976 NNPACK.cpp:56] Could not initialize NNPACK! Reason: Unsupported hardware.\n",
      "[W907 07:21:22.000987804 NNPACK.cpp:56] Could not initialize NNPACK! Reason: Unsupported hardware.\n",
      "[W907 07:21:22.006841953 NNPACK.cpp:56] Could not initialize NNPACK! Reason: Unsupported hardware.\n"
     ]
    },
    {
     "name": "stdout",
     "output_type": "stream",
     "text": [
      "Processing Images  ███░░░░░░░░░░░░░░░░░░░░░░░░░░░ 17 / 170 (10.00%)"
     ]
    },
    {
     "name": "stderr",
     "output_type": "stream",
     "text": [
      "[W907 07:21:24.072230418 NNPACK.cpp:56] Could not initialize NNPACK! Reason: Unsupported hardware.\n",
      "[W907 07:21:24.073480542 NNPACK.cpp:56] Could not initialize NNPACK! Reason: Unsupported hardware.\n",
      "[W907 07:21:24.083707714 NNPACK.cpp:56] Could not initialize NNPACK! Reason: Unsupported hardware.\n",
      "[W907 07:21:24.095212582 NNPACK.cpp:56] Could not initialize NNPACK! Reason: Unsupported hardware.\n"
     ]
    },
    {
     "name": "stdout",
     "output_type": "stream",
     "text": [
      "Processing Images  ███░░░░░░░░░░░░░░░░░░░░░░░░░░░ 18 / 170 (10.59%)"
     ]
    },
    {
     "name": "stderr",
     "output_type": "stream",
     "text": [
      "[W907 07:21:26.435903888 NNPACK.cpp:56] Could not initialize NNPACK! Reason: Unsupported hardware.\n",
      "[W907 07:21:26.436787237 NNPACK.cpp:56] Could not initialize NNPACK! Reason: Unsupported hardware.\n",
      "[W907 07:21:26.436991508 NNPACK.cpp:56] Could not initialize NNPACK! Reason: Unsupported hardware.\n",
      "[W907 07:21:26.437162427 NNPACK.cpp:56] Could not initialize NNPACK! Reason: Unsupported hardware.\n"
     ]
    },
    {
     "name": "stdout",
     "output_type": "stream",
     "text": [
      "Processing Images  ███░░░░░░░░░░░░░░░░░░░░░░░░░░░ 19 / 170 (11.18%)"
     ]
    },
    {
     "name": "stderr",
     "output_type": "stream",
     "text": [
      "[W907 07:21:26.871317819 NNPACK.cpp:56] Could not initialize NNPACK! Reason: Unsupported hardware.\n",
      "[W907 07:21:26.872225454 NNPACK.cpp:56] Could not initialize NNPACK! Reason: Unsupported hardware.\n",
      "[W907 07:21:26.872388708 NNPACK.cpp:56] Could not initialize NNPACK! Reason: Unsupported hardware.\n",
      "[W907 07:21:26.872494004 NNPACK.cpp:56] Could not initialize NNPACK! Reason: Unsupported hardware.\n"
     ]
    },
    {
     "name": "stdout",
     "output_type": "stream",
     "text": [
      "Processing Images  ███░░░░░░░░░░░░░░░░░░░░░░░░░░░ 20 / 170 (11.76%)"
     ]
    },
    {
     "name": "stderr",
     "output_type": "stream",
     "text": [
      "[W907 07:21:27.401619530 NNPACK.cpp:56] Could not initialize NNPACK! Reason: Unsupported hardware.\n",
      "[W907 07:21:27.402438699 NNPACK.cpp:56] Could not initialize NNPACK! Reason: Unsupported hardware.\n",
      "[W907 07:21:27.402591213 NNPACK.cpp:56] Could not initialize NNPACK! Reason: Unsupported hardware.\n",
      "[W907 07:21:27.402759467 NNPACK.cpp:56] Could not initialize NNPACK! Reason: Unsupported hardware.\n"
     ]
    },
    {
     "name": "stdout",
     "output_type": "stream",
     "text": [
      "Processing Images  ███░░░░░░░░░░░░░░░░░░░░░░░░░░░ 21 / 170 (12.35%)"
     ]
    },
    {
     "name": "stderr",
     "output_type": "stream",
     "text": [
      "[W907 07:21:27.925159758 NNPACK.cpp:56] Could not initialize NNPACK! Reason: Unsupported hardware.\n",
      "[W907 07:21:27.926076008 NNPACK.cpp:56] Could not initialize NNPACK! Reason: Unsupported hardware.\n",
      "[W907 07:21:27.926266724 NNPACK.cpp:56] Could not initialize NNPACK! Reason: Unsupported hardware.\n",
      "[W907 07:21:27.926425450 NNPACK.cpp:56] Could not initialize NNPACK! Reason: Unsupported hardware.\n"
     ]
    },
    {
     "name": "stdout",
     "output_type": "stream",
     "text": [
      "Processing Images  ███░░░░░░░░░░░░░░░░░░░░░░░░░░░ 22 / 170 (12.94%)"
     ]
    },
    {
     "name": "stderr",
     "output_type": "stream",
     "text": [
      "[W907 07:21:28.371423204 NNPACK.cpp:56] Could not initialize NNPACK! Reason: Unsupported hardware.\n",
      "[W907 07:21:28.372172022 NNPACK.cpp:56] Could not initialize NNPACK! Reason: Unsupported hardware.\n",
      "[W907 07:21:28.372449239 NNPACK.cpp:56] Could not initialize NNPACK! Reason: Unsupported hardware.\n",
      "[W907 07:21:28.372561499 NNPACK.cpp:56] Could not initialize NNPACK! Reason: Unsupported hardware.\n"
     ]
    },
    {
     "name": "stdout",
     "output_type": "stream",
     "text": [
      "Processing Images  ████░░░░░░░░░░░░░░░░░░░░░░░░░░ 23 / 170 (13.53%)"
     ]
    },
    {
     "name": "stderr",
     "output_type": "stream",
     "text": [
      "[W907 07:21:28.769740563 NNPACK.cpp:56] Could not initialize NNPACK! Reason: Unsupported hardware.\n",
      "[W907 07:21:28.770602862 NNPACK.cpp:56] Could not initialize NNPACK! Reason: Unsupported hardware.\n",
      "[W907 07:21:28.770781496 NNPACK.cpp:56] Could not initialize NNPACK! Reason: Unsupported hardware.\n",
      "[W907 07:21:28.770925525 NNPACK.cpp:56] Could not initialize NNPACK! Reason: Unsupported hardware.\n"
     ]
    },
    {
     "name": "stdout",
     "output_type": "stream",
     "text": [
      "Processing Images  ████░░░░░░░░░░░░░░░░░░░░░░░░░░ 24 / 170 (14.12%)"
     ]
    },
    {
     "name": "stderr",
     "output_type": "stream",
     "text": [
      "[W907 07:21:28.213858013 NNPACK.cpp:56] Could not initialize NNPACK! Reason: Unsupported hardware.\n",
      "[W907 07:21:28.214692581 NNPACK.cpp:56] Could not initialize NNPACK! Reason: Unsupported hardware.\n",
      "[W907 07:21:28.215414469 NNPACK.cpp:56] Could not initialize NNPACK! Reason: Unsupported hardware.\n",
      "[W907 07:21:28.215556052 NNPACK.cpp:56] Could not initialize NNPACK! Reason: Unsupported hardware.\n"
     ]
    },
    {
     "name": "stdout",
     "output_type": "stream",
     "text": [
      "Processing Images  ████░░░░░░░░░░░░░░░░░░░░░░░░░░ 25 / 170 (14.71%)"
     ]
    },
    {
     "name": "stderr",
     "output_type": "stream",
     "text": [
      "[W907 07:21:29.624103951 NNPACK.cpp:56] Could not initialize NNPACK! Reason: Unsupported hardware.\n",
      "[W907 07:21:29.624730941 NNPACK.cpp:56] Could not initialize NNPACK! Reason: Unsupported hardware.\n",
      "[W907 07:21:29.624799829 NNPACK.cpp:56] Could not initialize NNPACK! Reason: Unsupported hardware.\n",
      "[W907 07:21:29.624871223 NNPACK.cpp:56] Could not initialize NNPACK! Reason: Unsupported hardware.\n"
     ]
    },
    {
     "name": "stdout",
     "output_type": "stream",
     "text": [
      "Processing Images  ████░░░░░░░░░░░░░░░░░░░░░░░░░░ 26 / 170 (15.29%)"
     ]
    },
    {
     "name": "stderr",
     "output_type": "stream",
     "text": [
      "[W907 07:21:29.091807341 NNPACK.cpp:56] Could not initialize NNPACK! Reason: Unsupported hardware.\n",
      "[W907 07:21:29.092582729 NNPACK.cpp:56] Could not initialize NNPACK! Reason: Unsupported hardware.\n",
      "[W907 07:21:29.092739722 NNPACK.cpp:56] Could not initialize NNPACK! Reason: Unsupported hardware.\n",
      "[W907 07:21:29.092864475 NNPACK.cpp:56] Could not initialize NNPACK! Reason: Unsupported hardware.\n"
     ]
    },
    {
     "name": "stdout",
     "output_type": "stream",
     "text": [
      "Processing Images  ████░░░░░░░░░░░░░░░░░░░░░░░░░░ 27 / 170 (15.88%)"
     ]
    },
    {
     "name": "stderr",
     "output_type": "stream",
     "text": [
      "[W907 07:21:30.568687223 NNPACK.cpp:56] Could not initialize NNPACK! Reason: Unsupported hardware.\n",
      "[W907 07:21:30.569423858 NNPACK.cpp:56] Could not initialize NNPACK! Reason: Unsupported hardware.\n",
      "[W907 07:21:30.569577545 NNPACK.cpp:56] Could not initialize NNPACK! Reason: Unsupported hardware.\n",
      "[W907 07:21:30.569698140 NNPACK.cpp:56] Could not initialize NNPACK! Reason: Unsupported hardware.\n"
     ]
    },
    {
     "name": "stdout",
     "output_type": "stream",
     "text": [
      "Processing Images  ████░░░░░░░░░░░░░░░░░░░░░░░░░░ 28 / 170 (16.47%)"
     ]
    },
    {
     "name": "stderr",
     "output_type": "stream",
     "text": [
      "[W907 07:21:30.030906285 NNPACK.cpp:56] Could not initialize NNPACK! Reason: Unsupported hardware.\n",
      "[W907 07:21:30.031856660 NNPACK.cpp:56] Could not initialize NNPACK! Reason: Unsupported hardware.\n",
      "[W907 07:21:30.032161088 NNPACK.cpp:56] Could not initialize NNPACK! Reason: Unsupported hardware.\n",
      "[W907 07:21:30.032365449 NNPACK.cpp:56] Could not initialize NNPACK! Reason: Unsupported hardware.\n"
     ]
    },
    {
     "name": "stdout",
     "output_type": "stream",
     "text": [
      "Processing Images  █████░░░░░░░░░░░░░░░░░░░░░░░░░ 29 / 170 (17.06%)"
     ]
    },
    {
     "name": "stderr",
     "output_type": "stream",
     "text": [
      "[W907 07:21:31.480775173 NNPACK.cpp:56] Could not initialize NNPACK! Reason: Unsupported hardware.\n",
      "[W907 07:21:31.481738361 NNPACK.cpp:56] Could not initialize NNPACK! Reason: Unsupported hardware.\n",
      "[W907 07:21:31.482242482 NNPACK.cpp:56] Could not initialize NNPACK! Reason: Unsupported hardware.\n",
      "[W907 07:21:31.482379357 NNPACK.cpp:56] Could not initialize NNPACK! Reason: Unsupported hardware.\n"
     ]
    },
    {
     "name": "stdout",
     "output_type": "stream",
     "text": [
      "Processing Images  █████░░░░░░░░░░░░░░░░░░░░░░░░░ 30 / 170 (17.65%)"
     ]
    },
    {
     "name": "stderr",
     "output_type": "stream",
     "text": [
      "[W907 07:21:31.998965594 NNPACK.cpp:56] Could not initialize NNPACK! Reason: Unsupported hardware.\n",
      "[W907 07:21:31.000129807 NNPACK.cpp:56] Could not initialize NNPACK! Reason: Unsupported hardware.\n",
      "[W907 07:21:31.000333317 NNPACK.cpp:56] Could not initialize NNPACK! Reason: Unsupported hardware.\n",
      "[W907 07:21:31.000469021 NNPACK.cpp:56] Could not initialize NNPACK! Reason: Unsupported hardware.\n"
     ]
    },
    {
     "name": "stdout",
     "output_type": "stream",
     "text": [
      "Processing Images  █████░░░░░░░░░░░░░░░░░░░░░░░░░ 31 / 170 (18.24%)"
     ]
    },
    {
     "name": "stderr",
     "output_type": "stream",
     "text": [
      "[W907 07:21:32.400543750 NNPACK.cpp:56] Could not initialize NNPACK! Reason: Unsupported hardware.\n",
      "[W907 07:21:32.401187974 NNPACK.cpp:56] Could not initialize NNPACK! Reason: Unsupported hardware.\n",
      "[W907 07:21:32.401256050 NNPACK.cpp:56] Could not initialize NNPACK! Reason: Unsupported hardware.\n",
      "[W907 07:21:32.401325289 NNPACK.cpp:56] Could not initialize NNPACK! Reason: Unsupported hardware.\n"
     ]
    },
    {
     "name": "stdout",
     "output_type": "stream",
     "text": [
      "Processing Images  █████░░░░░░░░░░░░░░░░░░░░░░░░░ 32 / 170 (18.82%)"
     ]
    },
    {
     "name": "stderr",
     "output_type": "stream",
     "text": [
      "[W907 07:21:32.809022971 NNPACK.cpp:56] Could not initialize NNPACK! Reason: Unsupported hardware.\n",
      "[W907 07:21:32.809766068 NNPACK.cpp:56] Could not initialize NNPACK! Reason: Unsupported hardware.\n",
      "[W907 07:21:32.809906130 NNPACK.cpp:56] Could not initialize NNPACK! Reason: Unsupported hardware.\n",
      "[W907 07:21:32.810027196 NNPACK.cpp:56] Could not initialize NNPACK! Reason: Unsupported hardware.\n"
     ]
    },
    {
     "name": "stdout",
     "output_type": "stream",
     "text": [
      "Processing Images  █████░░░░░░░░░░░░░░░░░░░░░░░░░ 33 / 170 (19.41%)"
     ]
    },
    {
     "name": "stderr",
     "output_type": "stream",
     "text": [
      "[W907 07:21:32.280450735 NNPACK.cpp:56] Could not initialize NNPACK! Reason: Unsupported hardware.\n",
      "[W907 07:21:32.281207888 NNPACK.cpp:56] Could not initialize NNPACK! Reason: Unsupported hardware.\n",
      "[W907 07:21:32.281310129 NNPACK.cpp:56] Could not initialize NNPACK! Reason: Unsupported hardware.\n",
      "[W907 07:21:32.281400087 NNPACK.cpp:56] Could not initialize NNPACK! Reason: Unsupported hardware.\n"
     ]
    },
    {
     "name": "stdout",
     "output_type": "stream",
     "text": [
      "Processing Images  ██████░░░░░░░░░░░░░░░░░░░░░░░░ 34 / 170 (20.00%)"
     ]
    },
    {
     "name": "stderr",
     "output_type": "stream",
     "text": [
      "[W907 07:21:33.735152434 NNPACK.cpp:56] Could not initialize NNPACK! Reason: Unsupported hardware.\n",
      "[W907 07:21:33.735862690 NNPACK.cpp:56] Could not initialize NNPACK! Reason: Unsupported hardware.\n",
      "[W907 07:21:33.736051212 NNPACK.cpp:56] Could not initialize NNPACK! Reason: Unsupported hardware.\n",
      "[W907 07:21:33.736175464 NNPACK.cpp:56] Could not initialize NNPACK! Reason: Unsupported hardware.\n"
     ]
    },
    {
     "name": "stdout",
     "output_type": "stream",
     "text": [
      "Processing Images  ██████░░░░░░░░░░░░░░░░░░░░░░░░ 35 / 170 (20.59%)"
     ]
    },
    {
     "name": "stderr",
     "output_type": "stream",
     "text": [
      "[W907 07:21:34.476852380 NNPACK.cpp:56] Could not initialize NNPACK! Reason: Unsupported hardware.\n",
      "[W907 07:21:34.477586369 NNPACK.cpp:56] Could not initialize NNPACK! Reason: Unsupported hardware.\n",
      "[W907 07:21:34.477757318 NNPACK.cpp:56] Could not initialize NNPACK! Reason: Unsupported hardware.\n",
      "[W907 07:21:34.477892190 NNPACK.cpp:56] Could not initialize NNPACK! Reason: Unsupported hardware.\n"
     ]
    },
    {
     "name": "stdout",
     "output_type": "stream",
     "text": [
      "Processing Images  ██████░░░░░░░░░░░░░░░░░░░░░░░░ 36 / 170 (21.18%)"
     ]
    },
    {
     "name": "stderr",
     "output_type": "stream",
     "text": [
      "[W907 07:21:34.887126821 NNPACK.cpp:56] Could not initialize NNPACK! Reason: Unsupported hardware.\n",
      "[W907 07:21:34.887892831 NNPACK.cpp:56] Could not initialize NNPACK! Reason: Unsupported hardware.\n",
      "[W907 07:21:34.888114384 NNPACK.cpp:56] Could not initialize NNPACK! Reason: Unsupported hardware.\n",
      "[W907 07:21:34.888297737 NNPACK.cpp:56] Could not initialize NNPACK! Reason: Unsupported hardware.\n"
     ]
    },
    {
     "name": "stdout",
     "output_type": "stream",
     "text": [
      "Processing Images  ██████░░░░░░░░░░░░░░░░░░░░░░░░ 37 / 170 (21.76%)"
     ]
    },
    {
     "name": "stderr",
     "output_type": "stream",
     "text": [
      "[W907 07:21:35.975641651 NNPACK.cpp:56] Could not initialize NNPACK! Reason: Unsupported hardware.\n",
      "[W907 07:21:35.976302735 NNPACK.cpp:56] Could not initialize NNPACK! Reason: Unsupported hardware.\n",
      "[W907 07:21:35.976396570 NNPACK.cpp:56] Could not initialize NNPACK! Reason: Unsupported hardware.\n",
      "[W907 07:21:35.976484593 NNPACK.cpp:56] Could not initialize NNPACK! Reason: Unsupported hardware.\n"
     ]
    },
    {
     "name": "stdout",
     "output_type": "stream",
     "text": [
      "Processing Images  ██████░░░░░░░░░░░░░░░░░░░░░░░░ 38 / 170 (22.35%)"
     ]
    },
    {
     "name": "stderr",
     "output_type": "stream",
     "text": [
      "[W907 07:21:39.348632964 NNPACK.cpp:56] Could not initialize NNPACK! Reason: Unsupported hardware.\n",
      "[W907 07:21:39.349425144 NNPACK.cpp:56] Could not initialize NNPACK! Reason: Unsupported hardware.\n",
      "[W907 07:21:39.349503971 NNPACK.cpp:56] Could not initialize NNPACK! Reason: Unsupported hardware.\n",
      "[W907 07:21:39.349593678 NNPACK.cpp:56] Could not initialize NNPACK! Reason: Unsupported hardware.\n"
     ]
    },
    {
     "name": "stdout",
     "output_type": "stream",
     "text": [
      "Processing Images  ██████░░░░░░░░░░░░░░░░░░░░░░░░ 39 / 170 (22.94%)"
     ]
    },
    {
     "name": "stderr",
     "output_type": "stream",
     "text": [
      "[W907 07:21:41.517706576 NNPACK.cpp:56] Could not initialize NNPACK! Reason: Unsupported hardware.\n",
      "[W907 07:21:41.518340990 NNPACK.cpp:56] Could not initialize NNPACK! Reason: Unsupported hardware.\n",
      "[W907 07:21:41.518542226 NNPACK.cpp:56] Could not initialize NNPACK! Reason: Unsupported hardware.\n",
      "[W907 07:21:41.518694019 NNPACK.cpp:56] Could not initialize NNPACK! Reason: Unsupported hardware.\n"
     ]
    },
    {
     "name": "stdout",
     "output_type": "stream",
     "text": [
      "Processing Images  ███████░░░░░░░░░░░░░░░░░░░░░░░ 40 / 170 (23.53%)"
     ]
    },
    {
     "name": "stderr",
     "output_type": "stream",
     "text": [
      "[W907 07:21:41.945278099 NNPACK.cpp:56] Could not initialize NNPACK! Reason: Unsupported hardware.\n",
      "[W907 07:21:41.945949202 NNPACK.cpp:56] Could not initialize NNPACK! Reason: Unsupported hardware.\n",
      "[W907 07:21:41.946032297 NNPACK.cpp:56] Could not initialize NNPACK! Reason: Unsupported hardware.\n",
      "[W907 07:21:41.946106185 NNPACK.cpp:56] Could not initialize NNPACK! Reason: Unsupported hardware.\n"
     ]
    },
    {
     "name": "stdout",
     "output_type": "stream",
     "text": [
      "Processing Images  ███████░░░░░░░░░░░░░░░░░░░░░░░ 41 / 170 (24.12%)"
     ]
    },
    {
     "name": "stderr",
     "output_type": "stream",
     "text": [
      "[W907 07:21:42.361989087 NNPACK.cpp:56] Could not initialize NNPACK! Reason: Unsupported hardware.\n",
      "[W907 07:21:42.362833995 NNPACK.cpp:56] Could not initialize NNPACK! Reason: Unsupported hardware.\n",
      "[W907 07:21:42.363011867 NNPACK.cpp:56] Could not initialize NNPACK! Reason: Unsupported hardware.\n",
      "[W907 07:21:42.363139575 NNPACK.cpp:56] Could not initialize NNPACK! Reason: Unsupported hardware.\n"
     ]
    },
    {
     "name": "stdout",
     "output_type": "stream",
     "text": [
      "Processing Images  ███████░░░░░░░░░░░░░░░░░░░░░░░ 42 / 170 (24.71%)"
     ]
    },
    {
     "name": "stderr",
     "output_type": "stream",
     "text": [
      "[W907 07:21:43.395832257 NNPACK.cpp:56] Could not initialize NNPACK! Reason: Unsupported hardware.\n",
      "[W907 07:21:43.396485567 NNPACK.cpp:56] Could not initialize NNPACK! Reason: Unsupported hardware.\n",
      "[W907 07:21:43.396595732 NNPACK.cpp:56] Could not initialize NNPACK! Reason: Unsupported hardware.\n",
      "[W907 07:21:43.396684218 NNPACK.cpp:56] Could not initialize NNPACK! Reason: Unsupported hardware.\n"
     ]
    },
    {
     "name": "stdout",
     "output_type": "stream",
     "text": [
      "Processing Images  ███████░░░░░░░░░░░░░░░░░░░░░░░ 43 / 170 (25.29%)"
     ]
    },
    {
     "name": "stderr",
     "output_type": "stream",
     "text": [
      "[W907 07:21:43.953571982 NNPACK.cpp:56] Could not initialize NNPACK! Reason: Unsupported hardware.\n",
      "[W907 07:21:43.954345386 NNPACK.cpp:56] Could not initialize NNPACK! Reason: Unsupported hardware.\n",
      "[W907 07:21:43.954427399 NNPACK.cpp:56] Could not initialize NNPACK! Reason: Unsupported hardware.\n",
      "[W907 07:21:43.954500707 NNPACK.cpp:56] Could not initialize NNPACK! Reason: Unsupported hardware.\n"
     ]
    },
    {
     "name": "stdout",
     "output_type": "stream",
     "text": [
      "Processing Images  ███████░░░░░░░░░░░░░░░░░░░░░░░ 44 / 170 (25.88%)"
     ]
    },
    {
     "name": "stderr",
     "output_type": "stream",
     "text": [
      "[W907 07:21:44.701381015 NNPACK.cpp:56] Could not initialize NNPACK! Reason: Unsupported hardware.\n",
      "[W907 07:21:44.702252422 NNPACK.cpp:56] Could not initialize NNPACK! Reason: Unsupported hardware.\n",
      "[W907 07:21:44.702462574 NNPACK.cpp:56] Could not initialize NNPACK! Reason: Unsupported hardware.\n",
      "[W907 07:21:44.703334311 NNPACK.cpp:56] Could not initialize NNPACK! Reason: Unsupported hardware.\n"
     ]
    },
    {
     "name": "stdout",
     "output_type": "stream",
     "text": [
      "Processing Images  ███████░░░░░░░░░░░░░░░░░░░░░░░ 45 / 170 (26.47%)"
     ]
    },
    {
     "name": "stderr",
     "output_type": "stream",
     "text": [
      "[W907 07:21:44.139747121 NNPACK.cpp:56] Could not initialize NNPACK! Reason: Unsupported hardware.\n",
      "[W907 07:21:44.140493474 NNPACK.cpp:56] Could not initialize NNPACK! Reason: Unsupported hardware.\n",
      "[W907 07:21:44.141402952 NNPACK.cpp:56] Could not initialize NNPACK! Reason: Unsupported hardware.\n",
      "[W907 07:21:44.141552831 NNPACK.cpp:56] Could not initialize NNPACK! Reason: Unsupported hardware.\n"
     ]
    },
    {
     "name": "stdout",
     "output_type": "stream",
     "text": [
      "Processing Images  ████████░░░░░░░░░░░░░░░░░░░░░░ 46 / 170 (27.06%)"
     ]
    },
    {
     "name": "stderr",
     "output_type": "stream",
     "text": [
      "[W907 07:21:45.544098015 NNPACK.cpp:56] Could not initialize NNPACK! Reason: Unsupported hardware.\n",
      "[W907 07:21:45.544915641 NNPACK.cpp:56] Could not initialize NNPACK! Reason: Unsupported hardware.\n",
      "[W907 07:21:45.544987215 NNPACK.cpp:56] Could not initialize NNPACK! Reason: Unsupported hardware.\n",
      "[W907 07:21:45.545071753 NNPACK.cpp:56] Could not initialize NNPACK! Reason: Unsupported hardware.\n"
     ]
    },
    {
     "name": "stdout",
     "output_type": "stream",
     "text": [
      "Processing Images  ████████░░░░░░░░░░░░░░░░░░░░░░ 47 / 170 (27.65%)"
     ]
    },
    {
     "name": "stderr",
     "output_type": "stream",
     "text": [
      "[W907 07:21:45.999413692 NNPACK.cpp:56] Could not initialize NNPACK! Reason: Unsupported hardware.\n",
      "[W907 07:21:45.000863319 NNPACK.cpp:56] Could not initialize NNPACK! Reason: Unsupported hardware.\n",
      "[W907 07:21:45.001102997 NNPACK.cpp:56] Could not initialize NNPACK! Reason: Unsupported hardware.\n",
      "[W907 07:21:45.001249650 NNPACK.cpp:56] Could not initialize NNPACK! Reason: Unsupported hardware.\n"
     ]
    },
    {
     "name": "stdout",
     "output_type": "stream",
     "text": [
      "Processing Images  ████████░░░░░░░░░░░░░░░░░░░░░░ 48 / 170 (28.24%)"
     ]
    },
    {
     "name": "stderr",
     "output_type": "stream",
     "text": [
      "[W907 07:21:46.460794853 NNPACK.cpp:56] Could not initialize NNPACK! Reason: Unsupported hardware.\n",
      "[W907 07:21:46.461665408 NNPACK.cpp:56] Could not initialize NNPACK! Reason: Unsupported hardware.\n",
      "[W907 07:21:46.461911247 NNPACK.cpp:56] Could not initialize NNPACK! Reason: Unsupported hardware.\n",
      "[W907 07:21:46.462070154 NNPACK.cpp:56] Could not initialize NNPACK! Reason: Unsupported hardware.\n"
     ]
    },
    {
     "name": "stdout",
     "output_type": "stream",
     "text": [
      "Processing Images  ████████░░░░░░░░░░░░░░░░░░░░░░ 49 / 170 (28.82%)"
     ]
    },
    {
     "name": "stderr",
     "output_type": "stream",
     "text": [
      "[W907 07:21:46.309392763 NNPACK.cpp:56] Could not initialize NNPACK! Reason: Unsupported hardware.\n",
      "[W907 07:21:46.310255553 NNPACK.cpp:56] Could not initialize NNPACK! Reason: Unsupported hardware.\n",
      "[W907 07:21:46.310435058 NNPACK.cpp:56] Could not initialize NNPACK! Reason: Unsupported hardware.\n",
      "[W907 07:21:46.310577194 NNPACK.cpp:56] Could not initialize NNPACK! Reason: Unsupported hardware.\n"
     ]
    },
    {
     "name": "stdout",
     "output_type": "stream",
     "text": [
      "Processing Images  ████████░░░░░░░░░░░░░░░░░░░░░░ 50 / 170 (29.41%)"
     ]
    },
    {
     "name": "stderr",
     "output_type": "stream",
     "text": [
      "[W907 07:21:47.189024417 NNPACK.cpp:56] Could not initialize NNPACK! Reason: Unsupported hardware.\n",
      "[W907 07:21:47.189888529 NNPACK.cpp:56] Could not initialize NNPACK! Reason: Unsupported hardware.\n",
      "[W907 07:21:47.190111957 NNPACK.cpp:56] Could not initialize NNPACK! Reason: Unsupported hardware.\n",
      "[W907 07:21:47.190258009 NNPACK.cpp:56] Could not initialize NNPACK! Reason: Unsupported hardware.\n"
     ]
    },
    {
     "name": "stdout",
     "output_type": "stream",
     "text": [
      "Processing Images  █████████░░░░░░░░░░░░░░░░░░░░░ 51 / 170 (30.00%)"
     ]
    },
    {
     "name": "stderr",
     "output_type": "stream",
     "text": [
      "[W907 07:21:48.888441551 NNPACK.cpp:56] Could not initialize NNPACK! Reason: Unsupported hardware.\n",
      "[W907 07:21:48.889284785 NNPACK.cpp:56] Could not initialize NNPACK! Reason: Unsupported hardware.\n",
      "[W907 07:21:48.889431289 NNPACK.cpp:56] Could not initialize NNPACK! Reason: Unsupported hardware.\n",
      "[W907 07:21:48.889548047 NNPACK.cpp:56] Could not initialize NNPACK! Reason: Unsupported hardware.\n"
     ]
    },
    {
     "name": "stdout",
     "output_type": "stream",
     "text": [
      "Processing Images  █████████░░░░░░░░░░░░░░░░░░░░░ 52 / 170 (30.59%)"
     ]
    },
    {
     "name": "stderr",
     "output_type": "stream",
     "text": [
      "[W907 07:21:49.077195626 NNPACK.cpp:56] Could not initialize NNPACK! Reason: Unsupported hardware.\n",
      "[W907 07:21:49.078122456 NNPACK.cpp:56] Could not initialize NNPACK! Reason: Unsupported hardware.\n",
      "[W907 07:21:49.078195552 NNPACK.cpp:56] Could not initialize NNPACK! Reason: Unsupported hardware.\n",
      "[W907 07:21:49.078265984 NNPACK.cpp:56] Could not initialize NNPACK! Reason: Unsupported hardware.\n"
     ]
    },
    {
     "name": "stdout",
     "output_type": "stream",
     "text": [
      "Processing Images  █████████░░░░░░░░░░░░░░░░░░░░░ 53 / 170 (31.18%)"
     ]
    },
    {
     "name": "stderr",
     "output_type": "stream",
     "text": [
      "[W907 07:21:50.704641292 NNPACK.cpp:56] Could not initialize NNPACK! Reason: Unsupported hardware.\n",
      "[W907 07:21:50.705389579 NNPACK.cpp:56] Could not initialize NNPACK! Reason: Unsupported hardware.\n",
      "[W907 07:21:50.705464178 NNPACK.cpp:56] Could not initialize NNPACK! Reason: Unsupported hardware.\n",
      "[W907 07:21:50.705687805 NNPACK.cpp:56] Could not initialize NNPACK! Reason: Unsupported hardware.\n"
     ]
    },
    {
     "name": "stdout",
     "output_type": "stream",
     "text": [
      "Processing Images  █████████░░░░░░░░░░░░░░░░░░░░░ 54 / 170 (31.76%)"
     ]
    },
    {
     "name": "stderr",
     "output_type": "stream",
     "text": [
      "[W907 07:21:51.781573304 NNPACK.cpp:56] Could not initialize NNPACK! Reason: Unsupported hardware.\n",
      "[W907 07:21:51.782404556 NNPACK.cpp:56] Could not initialize NNPACK! Reason: Unsupported hardware.\n",
      "[W907 07:21:51.782621090 NNPACK.cpp:56] Could not initialize NNPACK! Reason: Unsupported hardware.\n",
      "[W907 07:21:51.782748908 NNPACK.cpp:56] Could not initialize NNPACK! Reason: Unsupported hardware.\n"
     ]
    },
    {
     "name": "stdout",
     "output_type": "stream",
     "text": [
      "Processing Images  █████████░░░░░░░░░░░░░░░░░░░░░ 55 / 170 (32.35%)"
     ]
    },
    {
     "name": "stderr",
     "output_type": "stream",
     "text": [
      "[W907 07:21:53.623364761 NNPACK.cpp:56] Could not initialize NNPACK! Reason: Unsupported hardware.\n",
      "[W907 07:21:53.624266615 NNPACK.cpp:56] Could not initialize NNPACK! Reason: Unsupported hardware.\n",
      "[W907 07:21:53.624480324 NNPACK.cpp:56] Could not initialize NNPACK! Reason: Unsupported hardware.\n",
      "[W907 07:21:53.624632888 NNPACK.cpp:56] Could not initialize NNPACK! Reason: Unsupported hardware.\n"
     ]
    },
    {
     "name": "stdout",
     "output_type": "stream",
     "text": [
      "Processing Images  █████████░░░░░░░░░░░░░░░░░░░░░ 56 / 170 (32.94%)"
     ]
    },
    {
     "name": "stderr",
     "output_type": "stream",
     "text": [
      "[W907 07:21:54.390954503 NNPACK.cpp:56] Could not initialize NNPACK! Reason: Unsupported hardware.\n",
      "[W907 07:21:54.391751502 NNPACK.cpp:56] Could not initialize NNPACK! Reason: Unsupported hardware.\n",
      "[W907 07:21:54.391931939 NNPACK.cpp:56] Could not initialize NNPACK! Reason: Unsupported hardware.\n",
      "[W907 07:21:54.392019361 NNPACK.cpp:56] Could not initialize NNPACK! Reason: Unsupported hardware.\n"
     ]
    },
    {
     "name": "stdout",
     "output_type": "stream",
     "text": [
      "Processing Images  ██████████░░░░░░░░░░░░░░░░░░░░ 57 / 170 (33.53%)"
     ]
    },
    {
     "name": "stderr",
     "output_type": "stream",
     "text": [
      "[W907 07:21:54.869921455 NNPACK.cpp:56] Could not initialize NNPACK! Reason: Unsupported hardware.\n",
      "[W907 07:21:54.870792412 NNPACK.cpp:56] Could not initialize NNPACK! Reason: Unsupported hardware.\n",
      "[W907 07:21:54.871086951 NNPACK.cpp:56] Could not initialize NNPACK! Reason: Unsupported hardware.\n",
      "[W907 07:21:54.871237923 NNPACK.cpp:56] Could not initialize NNPACK! Reason: Unsupported hardware.\n"
     ]
    },
    {
     "name": "stdout",
     "output_type": "stream",
     "text": [
      "Processing Images  ██████████░░░░░░░░░░░░░░░░░░░░ 58 / 170 (34.12%)"
     ]
    },
    {
     "name": "stderr",
     "output_type": "stream",
     "text": [
      "[W907 07:21:55.607269602 NNPACK.cpp:56] Could not initialize NNPACK! Reason: Unsupported hardware.\n",
      "[W907 07:21:55.607994837 NNPACK.cpp:56] Could not initialize NNPACK! Reason: Unsupported hardware.\n",
      "[W907 07:21:55.608159975 NNPACK.cpp:56] Could not initialize NNPACK! Reason: Unsupported hardware.\n",
      "[W907 07:21:55.608281822 NNPACK.cpp:56] Could not initialize NNPACK! Reason: Unsupported hardware.\n"
     ]
    },
    {
     "name": "stdout",
     "output_type": "stream",
     "text": [
      "Processing Images  ██████████░░░░░░░░░░░░░░░░░░░░ 59 / 170 (34.71%)"
     ]
    },
    {
     "name": "stderr",
     "output_type": "stream",
     "text": [
      "[W907 07:21:55.115323705 NNPACK.cpp:56] Could not initialize NNPACK! Reason: Unsupported hardware.\n",
      "[W907 07:21:55.115777802 NNPACK.cpp:56] Could not initialize NNPACK! Reason: Unsupported hardware.\n",
      "[W907 07:21:55.115843305 NNPACK.cpp:56] Could not initialize NNPACK! Reason: Unsupported hardware.\n",
      "[W907 07:21:55.115913015 NNPACK.cpp:56] Could not initialize NNPACK! Reason: Unsupported hardware.\n"
     ]
    },
    {
     "name": "stdout",
     "output_type": "stream",
     "text": [
      "Processing Images  ██████████░░░░░░░░░░░░░░░░░░░░ 60 / 170 (35.29%)"
     ]
    },
    {
     "name": "stderr",
     "output_type": "stream",
     "text": [
      "[W907 07:21:56.882223600 NNPACK.cpp:56] Could not initialize NNPACK! Reason: Unsupported hardware.\n",
      "[W907 07:21:56.883175918 NNPACK.cpp:56] Could not initialize NNPACK! Reason: Unsupported hardware.\n",
      "[W907 07:21:56.883376652 NNPACK.cpp:56] Could not initialize NNPACK! Reason: Unsupported hardware.\n",
      "[W907 07:21:56.883543825 NNPACK.cpp:56] Could not initialize NNPACK! Reason: Unsupported hardware.\n"
     ]
    },
    {
     "name": "stdout",
     "output_type": "stream",
     "text": [
      "Processing Images  ██████████░░░░░░░░░░░░░░░░░░░░ 61 / 170 (35.88%)"
     ]
    },
    {
     "name": "stderr",
     "output_type": "stream",
     "text": [
      "[W907 07:21:57.908933298 NNPACK.cpp:56] Could not initialize NNPACK! Reason: Unsupported hardware.\n",
      "[W907 07:21:57.909845541 NNPACK.cpp:56] Could not initialize NNPACK! Reason: Unsupported hardware.\n",
      "[W907 07:21:57.910046325 NNPACK.cpp:56] Could not initialize NNPACK! Reason: Unsupported hardware.\n",
      "[W907 07:21:57.910175386 NNPACK.cpp:56] Could not initialize NNPACK! Reason: Unsupported hardware.\n"
     ]
    },
    {
     "name": "stdout",
     "output_type": "stream",
     "text": [
      "Processing Images  ██████████░░░░░░░░░░░░░░░░░░░░ 62 / 170 (36.47%)"
     ]
    },
    {
     "name": "stderr",
     "output_type": "stream",
     "text": [
      "[W907 07:21:58.991516852 NNPACK.cpp:56] Could not initialize NNPACK! Reason: Unsupported hardware.\n",
      "[W907 07:21:58.992442541 NNPACK.cpp:56] Could not initialize NNPACK! Reason: Unsupported hardware.\n",
      "[W907 07:21:58.992843810 NNPACK.cpp:56] Could not initialize NNPACK! Reason: Unsupported hardware.\n",
      "[W907 07:21:58.993329407 NNPACK.cpp:56] Could not initialize NNPACK! Reason: Unsupported hardware.\n"
     ]
    },
    {
     "name": "stdout",
     "output_type": "stream",
     "text": [
      "Processing Images  ███████████░░░░░░░░░░░░░░░░░░░ 63 / 170 (37.06%)"
     ]
    },
    {
     "name": "stderr",
     "output_type": "stream",
     "text": [
      "[W907 07:21:59.926029595 NNPACK.cpp:56] Could not initialize NNPACK! Reason: Unsupported hardware.\n",
      "[W907 07:21:59.931125558 NNPACK.cpp:56] Could not initialize NNPACK! Reason: Unsupported hardware.\n",
      "[W907 07:21:59.938522617 NNPACK.cpp:56] Could not initialize NNPACK! Reason: Unsupported hardware.\n",
      "[W907 07:21:59.947720167 NNPACK.cpp:56] Could not initialize NNPACK! Reason: Unsupported hardware.\n"
     ]
    },
    {
     "name": "stdout",
     "output_type": "stream",
     "text": [
      "Processing Images  ███████████░░░░░░░░░░░░░░░░░░░ 64 / 170 (37.65%)"
     ]
    },
    {
     "name": "stderr",
     "output_type": "stream",
     "text": [
      "[W907 07:22:00.248935392 NNPACK.cpp:56] Could not initialize NNPACK! Reason: Unsupported hardware.\n",
      "[W907 07:22:00.249768508 NNPACK.cpp:56] Could not initialize NNPACK! Reason: Unsupported hardware.\n",
      "[W907 07:22:00.249926933 NNPACK.cpp:56] Could not initialize NNPACK! Reason: Unsupported hardware.\n",
      "[W907 07:22:00.250042088 NNPACK.cpp:56] Could not initialize NNPACK! Reason: Unsupported hardware.\n"
     ]
    },
    {
     "name": "stdout",
     "output_type": "stream",
     "text": [
      "Processing Images  ███████████░░░░░░░░░░░░░░░░░░░ 65 / 170 (38.24%)"
     ]
    },
    {
     "name": "stderr",
     "output_type": "stream",
     "text": [
      "[W907 07:22:01.026250061 NNPACK.cpp:56] Could not initialize NNPACK! Reason: Unsupported hardware.\n",
      "[W907 07:22:01.031730974 NNPACK.cpp:56] Could not initialize NNPACK! Reason: Unsupported hardware.\n",
      "[W907 07:22:01.041776717 NNPACK.cpp:56] Could not initialize NNPACK! Reason: Unsupported hardware.\n",
      "[W907 07:22:01.042443232 NNPACK.cpp:56] Could not initialize NNPACK! Reason: Unsupported hardware.\n"
     ]
    },
    {
     "name": "stdout",
     "output_type": "stream",
     "text": [
      "Processing Images  ███████████░░░░░░░░░░░░░░░░░░░ 66 / 170 (38.82%)"
     ]
    },
    {
     "name": "stderr",
     "output_type": "stream",
     "text": [
      "[W907 07:22:02.617858688 NNPACK.cpp:56] Could not initialize NNPACK! Reason: Unsupported hardware.\n",
      "[W907 07:22:02.618863353 NNPACK.cpp:56] Could not initialize NNPACK! Reason: Unsupported hardware.\n",
      "[W907 07:22:02.619065140 NNPACK.cpp:56] Could not initialize NNPACK! Reason: Unsupported hardware.\n",
      "[W907 07:22:02.619216843 NNPACK.cpp:56] Could not initialize NNPACK! Reason: Unsupported hardware.\n"
     ]
    },
    {
     "name": "stdout",
     "output_type": "stream",
     "text": [
      "Processing Images  ███████████░░░░░░░░░░░░░░░░░░░ 67 / 170 (39.41%)"
     ]
    },
    {
     "name": "stderr",
     "output_type": "stream",
     "text": [
      "[W907 07:22:02.248281735 NNPACK.cpp:56] Could not initialize NNPACK! Reason: Unsupported hardware.\n",
      "[W907 07:22:02.248990798 NNPACK.cpp:56] Could not initialize NNPACK! Reason: Unsupported hardware.\n",
      "[W907 07:22:02.249139546 NNPACK.cpp:56] Could not initialize NNPACK! Reason: Unsupported hardware.\n",
      "[W907 07:22:02.249257527 NNPACK.cpp:56] Could not initialize NNPACK! Reason: Unsupported hardware.\n"
     ]
    },
    {
     "name": "stdout",
     "output_type": "stream",
     "text": [
      "Processing Images  ████████████░░░░░░░░░░░░░░░░░░ 68 / 170 (40.00%)"
     ]
    },
    {
     "name": "stderr",
     "output_type": "stream",
     "text": [
      "[W907 07:22:03.751097470 NNPACK.cpp:56] Could not initialize NNPACK! Reason: Unsupported hardware.\n",
      "[W907 07:22:03.751834145 NNPACK.cpp:56] Could not initialize NNPACK! Reason: Unsupported hardware.\n",
      "[W907 07:22:03.752036242 NNPACK.cpp:56] Could not initialize NNPACK! Reason: Unsupported hardware.\n",
      "[W907 07:22:03.752183658 NNPACK.cpp:56] Could not initialize NNPACK! Reason: Unsupported hardware.\n"
     ]
    },
    {
     "name": "stdout",
     "output_type": "stream",
     "text": [
      "Processing Images  ████████████░░░░░░░░░░░░░░░░░░ 69 / 170 (40.59%)"
     ]
    },
    {
     "name": "stderr",
     "output_type": "stream",
     "text": [
      "[W907 07:22:03.173118835 NNPACK.cpp:56] Could not initialize NNPACK! Reason: Unsupported hardware.\n",
      "[W907 07:22:03.173908469 NNPACK.cpp:56] Could not initialize NNPACK! Reason: Unsupported hardware.\n",
      "[W907 07:22:03.174311241 NNPACK.cpp:56] Could not initialize NNPACK! Reason: Unsupported hardware.\n",
      "[W907 07:22:03.174595572 NNPACK.cpp:56] Could not initialize NNPACK! Reason: Unsupported hardware.\n"
     ]
    },
    {
     "name": "stdout",
     "output_type": "stream",
     "text": [
      "Processing Images  ████████████░░░░░░░░░░░░░░░░░░ 70 / 170 (41.18%)"
     ]
    },
    {
     "name": "stderr",
     "output_type": "stream",
     "text": [
      "[W907 07:22:04.633153915 NNPACK.cpp:56] Could not initialize NNPACK! Reason: Unsupported hardware.\n",
      "[W907 07:22:04.634029310 NNPACK.cpp:56] Could not initialize NNPACK! Reason: Unsupported hardware.\n",
      "[W907 07:22:04.634329500 NNPACK.cpp:56] Could not initialize NNPACK! Reason: Unsupported hardware.\n",
      "[W907 07:22:04.634466656 NNPACK.cpp:56] Could not initialize NNPACK! Reason: Unsupported hardware.\n"
     ]
    },
    {
     "name": "stdout",
     "output_type": "stream",
     "text": [
      "Processing Images  ████████████░░░░░░░░░░░░░░░░░░ 71 / 170 (41.76%)"
     ]
    },
    {
     "name": "stderr",
     "output_type": "stream",
     "text": [
      "[W907 07:22:04.100350816 NNPACK.cpp:56] Could not initialize NNPACK! Reason: Unsupported hardware.\n",
      "[W907 07:22:04.101384636 NNPACK.cpp:56] Could not initialize NNPACK! Reason: Unsupported hardware.\n",
      "[W907 07:22:04.101653959 NNPACK.cpp:56] Could not initialize NNPACK! Reason: Unsupported hardware.\n",
      "[W907 07:22:04.101877266 NNPACK.cpp:56] Could not initialize NNPACK! Reason: Unsupported hardware.\n"
     ]
    },
    {
     "name": "stdout",
     "output_type": "stream",
     "text": [
      "Processing Images  ████████████░░░░░░░░░░░░░░░░░░ 72 / 170 (42.35%)"
     ]
    },
    {
     "name": "stderr",
     "output_type": "stream",
     "text": [
      "[W907 07:22:05.640842847 NNPACK.cpp:56] Could not initialize NNPACK! Reason: Unsupported hardware.\n",
      "[W907 07:22:05.641619016 NNPACK.cpp:56] Could not initialize NNPACK! Reason: Unsupported hardware.\n",
      "[W907 07:22:05.641767133 NNPACK.cpp:56] Could not initialize NNPACK! Reason: Unsupported hardware.\n",
      "[W907 07:22:05.641889781 NNPACK.cpp:56] Could not initialize NNPACK! Reason: Unsupported hardware.\n"
     ]
    },
    {
     "name": "stdout",
     "output_type": "stream",
     "text": [
      "Processing Images  ████████████░░░░░░░░░░░░░░░░░░ 73 / 170 (42.94%)"
     ]
    },
    {
     "name": "stderr",
     "output_type": "stream",
     "text": [
      "[W907 07:22:05.178520774 NNPACK.cpp:56] Could not initialize NNPACK! Reason: Unsupported hardware.\n",
      "[W907 07:22:05.179418330 NNPACK.cpp:56] Could not initialize NNPACK! Reason: Unsupported hardware.\n",
      "[W907 07:22:05.179595831 NNPACK.cpp:56] Could not initialize NNPACK! Reason: Unsupported hardware.\n",
      "[W907 07:22:05.179733178 NNPACK.cpp:56] Could not initialize NNPACK! Reason: Unsupported hardware.\n"
     ]
    },
    {
     "name": "stdout",
     "output_type": "stream",
     "text": [
      "Processing Images  █████████████░░░░░░░░░░░░░░░░░ 74 / 170 (43.53%)"
     ]
    },
    {
     "name": "stderr",
     "output_type": "stream",
     "text": [
      "[W907 07:22:06.690011655 NNPACK.cpp:56] Could not initialize NNPACK! Reason: Unsupported hardware.\n",
      "[W907 07:22:06.690762476 NNPACK.cpp:56] Could not initialize NNPACK! Reason: Unsupported hardware.\n",
      "[W907 07:22:06.690908158 NNPACK.cpp:56] Could not initialize NNPACK! Reason: Unsupported hardware.\n",
      "[W907 07:22:06.691043902 NNPACK.cpp:56] Could not initialize NNPACK! Reason: Unsupported hardware.\n"
     ]
    },
    {
     "name": "stdout",
     "output_type": "stream",
     "text": [
      "Processing Images  █████████████░░░░░░░░░░░░░░░░░ 75 / 170 (44.12%)"
     ]
    },
    {
     "name": "stderr",
     "output_type": "stream",
     "text": [
      "[W907 07:22:06.178127498 NNPACK.cpp:56] Could not initialize NNPACK! Reason: Unsupported hardware.\n",
      "[W907 07:22:06.178886936 NNPACK.cpp:56] Could not initialize NNPACK! Reason: Unsupported hardware.\n",
      "[W907 07:22:06.179057003 NNPACK.cpp:56] Could not initialize NNPACK! Reason: Unsupported hardware.\n",
      "[W907 07:22:06.179187327 NNPACK.cpp:56] Could not initialize NNPACK! Reason: Unsupported hardware.\n"
     ]
    },
    {
     "name": "stdout",
     "output_type": "stream",
     "text": [
      "Processing Images  █████████████░░░░░░░░░░░░░░░░░ 76 / 170 (44.71%)"
     ]
    },
    {
     "name": "stderr",
     "output_type": "stream",
     "text": [
      "[W907 07:22:07.652378047 NNPACK.cpp:56] Could not initialize NNPACK! Reason: Unsupported hardware.\n",
      "[W907 07:22:07.653104783 NNPACK.cpp:56] Could not initialize NNPACK! Reason: Unsupported hardware.\n",
      "[W907 07:22:07.653270152 NNPACK.cpp:56] Could not initialize NNPACK! Reason: Unsupported hardware.\n",
      "[W907 07:22:07.653394624 NNPACK.cpp:56] Could not initialize NNPACK! Reason: Unsupported hardware.\n"
     ]
    },
    {
     "name": "stdout",
     "output_type": "stream",
     "text": [
      "Processing Images  █████████████░░░░░░░░░░░░░░░░░ 77 / 170 (45.29%)"
     ]
    },
    {
     "name": "stderr",
     "output_type": "stream",
     "text": [
      "[W907 07:22:08.085789985 NNPACK.cpp:56] Could not initialize NNPACK! Reason: Unsupported hardware.\n",
      "[W907 07:22:08.086460156 NNPACK.cpp:56] Could not initialize NNPACK! Reason: Unsupported hardware.\n",
      "[W907 07:22:08.086533323 NNPACK.cpp:56] Could not initialize NNPACK! Reason: Unsupported hardware.\n",
      "[W907 07:22:08.086604626 NNPACK.cpp:56] Could not initialize NNPACK! Reason: Unsupported hardware.\n"
     ]
    },
    {
     "name": "stdout",
     "output_type": "stream",
     "text": [
      "Processing Images  █████████████░░░░░░░░░░░░░░░░░ 78 / 170 (45.88%)"
     ]
    },
    {
     "name": "stderr",
     "output_type": "stream",
     "text": [
      "[W907 07:22:10.507213564 NNPACK.cpp:56] Could not initialize NNPACK! Reason: Unsupported hardware.\n",
      "[W907 07:22:10.507986247 NNPACK.cpp:56] Could not initialize NNPACK! Reason: Unsupported hardware.\n",
      "[W907 07:22:10.508232456 NNPACK.cpp:56] Could not initialize NNPACK! Reason: Unsupported hardware.\n",
      "[W907 07:22:10.508363581 NNPACK.cpp:56] Could not initialize NNPACK! Reason: Unsupported hardware.\n"
     ]
    },
    {
     "name": "stdout",
     "output_type": "stream",
     "text": [
      "Processing Images  █████████████░░░░░░░░░░░░░░░░░ 79 / 170 (46.47%)"
     ]
    },
    {
     "name": "stderr",
     "output_type": "stream",
     "text": [
      "[W907 07:22:11.257866993 NNPACK.cpp:56] Could not initialize NNPACK! Reason: Unsupported hardware.\n",
      "[W907 07:22:11.258629626 NNPACK.cpp:56] Could not initialize NNPACK! Reason: Unsupported hardware.\n",
      "[W907 07:22:11.258809031 NNPACK.cpp:56] Could not initialize NNPACK! Reason: Unsupported hardware.\n",
      "[W907 07:22:11.258932221 NNPACK.cpp:56] Could not initialize NNPACK! Reason: Unsupported hardware.\n"
     ]
    },
    {
     "name": "stdout",
     "output_type": "stream",
     "text": [
      "Processing Images  ██████████████░░░░░░░░░░░░░░░░ 80 / 170 (47.06%)"
     ]
    },
    {
     "name": "stderr",
     "output_type": "stream",
     "text": [
      "[W907 07:22:12.127127333 NNPACK.cpp:56] Could not initialize NNPACK! Reason: Unsupported hardware.\n",
      "[W907 07:22:12.131594071 NNPACK.cpp:56] Could not initialize NNPACK! Reason: Unsupported hardware.\n",
      "[W907 07:22:12.140338005 NNPACK.cpp:56] Could not initialize NNPACK! Reason: Unsupported hardware.\n",
      "[W907 07:22:12.150992555 NNPACK.cpp:56] Could not initialize NNPACK! Reason: Unsupported hardware.\n"
     ]
    },
    {
     "name": "stdout",
     "output_type": "stream",
     "text": [
      "Processing Images  ██████████████░░░░░░░░░░░░░░░░ 81 / 170 (47.65%)"
     ]
    },
    {
     "name": "stderr",
     "output_type": "stream",
     "text": [
      "[W907 07:22:13.021329875 NNPACK.cpp:56] Could not initialize NNPACK! Reason: Unsupported hardware.\n",
      "[W907 07:22:13.022075779 NNPACK.cpp:56] Could not initialize NNPACK! Reason: Unsupported hardware.\n",
      "[W907 07:22:13.022149816 NNPACK.cpp:56] Could not initialize NNPACK! Reason: Unsupported hardware.\n",
      "[W907 07:22:13.022227211 NNPACK.cpp:56] Could not initialize NNPACK! Reason: Unsupported hardware.\n"
     ]
    },
    {
     "name": "stdout",
     "output_type": "stream",
     "text": [
      "Processing Images  ██████████████░░░░░░░░░░░░░░░░ 82 / 170 (48.24%)"
     ]
    },
    {
     "name": "stderr",
     "output_type": "stream",
     "text": [
      "[W907 07:22:14.430866505 NNPACK.cpp:56] Could not initialize NNPACK! Reason: Unsupported hardware.\n",
      "[W907 07:22:14.431611746 NNPACK.cpp:56] Could not initialize NNPACK! Reason: Unsupported hardware.\n",
      "[W907 07:22:14.431795188 NNPACK.cpp:56] Could not initialize NNPACK! Reason: Unsupported hardware.\n",
      "[W907 07:22:14.432074300 NNPACK.cpp:56] Could not initialize NNPACK! Reason: Unsupported hardware.\n"
     ]
    },
    {
     "name": "stdout",
     "output_type": "stream",
     "text": [
      "Processing Images  ██████████████░░░░░░░░░░░░░░░░ 83 / 170 (48.82%)"
     ]
    },
    {
     "name": "stderr",
     "output_type": "stream",
     "text": [
      "[W907 07:22:14.174443875 NNPACK.cpp:56] Could not initialize NNPACK! Reason: Unsupported hardware.\n",
      "[W907 07:22:14.175304782 NNPACK.cpp:56] Could not initialize NNPACK! Reason: Unsupported hardware.\n",
      "[W907 07:22:14.175509845 NNPACK.cpp:56] Could not initialize NNPACK! Reason: Unsupported hardware.\n",
      "[W907 07:22:14.175676667 NNPACK.cpp:56] Could not initialize NNPACK! Reason: Unsupported hardware.\n"
     ]
    },
    {
     "name": "stdout",
     "output_type": "stream",
     "text": [
      "Processing Images  ██████████████░░░░░░░░░░░░░░░░ 84 / 170 (49.41%)"
     ]
    },
    {
     "name": "stderr",
     "output_type": "stream",
     "text": [
      "[W907 07:22:15.602115410 NNPACK.cpp:56] Could not initialize NNPACK! Reason: Unsupported hardware.\n",
      "[W907 07:22:15.602849491 NNPACK.cpp:56] Could not initialize NNPACK! Reason: Unsupported hardware.\n",
      "[W907 07:22:15.603013427 NNPACK.cpp:56] Could not initialize NNPACK! Reason: Unsupported hardware.\n",
      "[W907 07:22:15.603134132 NNPACK.cpp:56] Could not initialize NNPACK! Reason: Unsupported hardware.\n"
     ]
    },
    {
     "name": "stdout",
     "output_type": "stream",
     "text": [
      "Processing Images  ███████████████░░░░░░░░░░░░░░░ 85 / 170 (50.00%)"
     ]
    },
    {
     "name": "stderr",
     "output_type": "stream",
     "text": [
      "[W907 07:22:17.405800163 NNPACK.cpp:56] Could not initialize NNPACK! Reason: Unsupported hardware.\n",
      "[W907 07:22:17.411825771 NNPACK.cpp:56] Could not initialize NNPACK! Reason: Unsupported hardware.\n",
      "[W907 07:22:17.416084722 NNPACK.cpp:56] Could not initialize NNPACK! Reason: Unsupported hardware.\n",
      "[W907 07:22:17.428352564 NNPACK.cpp:56] Could not initialize NNPACK! Reason: Unsupported hardware.\n"
     ]
    },
    {
     "name": "stdout",
     "output_type": "stream",
     "text": [
      "Processing Images  ███████████████░░░░░░░░░░░░░░░ 86 / 170 (50.59%)"
     ]
    },
    {
     "name": "stderr",
     "output_type": "stream",
     "text": [
      "[W907 07:22:18.985485715 NNPACK.cpp:56] Could not initialize NNPACK! Reason: Unsupported hardware.\n",
      "[W907 07:22:18.986366760 NNPACK.cpp:56] Could not initialize NNPACK! Reason: Unsupported hardware.\n",
      "[W907 07:22:18.986583574 NNPACK.cpp:56] Could not initialize NNPACK! Reason: Unsupported hardware.\n",
      "[W907 07:22:18.986728826 NNPACK.cpp:56] Could not initialize NNPACK! Reason: Unsupported hardware.\n"
     ]
    },
    {
     "name": "stdout",
     "output_type": "stream",
     "text": [
      "Processing Images  ███████████████░░░░░░░░░░░░░░░ 87 / 170 (51.18%)"
     ]
    },
    {
     "name": "stderr",
     "output_type": "stream",
     "text": [
      "[W907 07:22:20.533548924 NNPACK.cpp:56] Could not initialize NNPACK! Reason: Unsupported hardware.\n",
      "[W907 07:22:20.534315555 NNPACK.cpp:56] Could not initialize NNPACK! Reason: Unsupported hardware.\n",
      "[W907 07:22:20.534506773 NNPACK.cpp:56] Could not initialize NNPACK! Reason: Unsupported hardware.\n",
      "[W907 07:22:20.534657985 NNPACK.cpp:56] Could not initialize NNPACK! Reason: Unsupported hardware.\n"
     ]
    },
    {
     "name": "stdout",
     "output_type": "stream",
     "text": [
      "Processing Images  ███████████████░░░░░░░░░░░░░░░ 88 / 170 (51.76%)"
     ]
    },
    {
     "name": "stderr",
     "output_type": "stream",
     "text": [
      "[W907 07:22:20.086256362 NNPACK.cpp:56] Could not initialize NNPACK! Reason: Unsupported hardware.\n",
      "[W907 07:22:20.086797292 NNPACK.cpp:56] Could not initialize NNPACK! Reason: Unsupported hardware.\n",
      "[W907 07:22:20.086885987 NNPACK.cpp:56] Could not initialize NNPACK! Reason: Unsupported hardware.\n",
      "[W907 07:22:20.086971076 NNPACK.cpp:56] Could not initialize NNPACK! Reason: Unsupported hardware.\n"
     ]
    },
    {
     "name": "stdout",
     "output_type": "stream",
     "text": [
      "Processing Images  ███████████████░░░░░░░░░░░░░░░ 89 / 170 (52.35%)"
     ]
    },
    {
     "name": "stderr",
     "output_type": "stream",
     "text": [
      "[W907 07:22:21.647805155 NNPACK.cpp:56] Could not initialize NNPACK! Reason: Unsupported hardware.\n",
      "[W907 07:22:21.648529498 NNPACK.cpp:56] Could not initialize NNPACK! Reason: Unsupported hardware.\n",
      "[W907 07:22:21.648601703 NNPACK.cpp:56] Could not initialize NNPACK! Reason: Unsupported hardware.\n",
      "[W907 07:22:21.648672694 NNPACK.cpp:56] Could not initialize NNPACK! Reason: Unsupported hardware.\n"
     ]
    },
    {
     "name": "stdout",
     "output_type": "stream",
     "text": [
      "Processing Images  ███████████████░░░░░░░░░░░░░░░ 90 / 170 (52.94%)"
     ]
    },
    {
     "name": "stderr",
     "output_type": "stream",
     "text": [
      "[W907 07:22:22.918792068 NNPACK.cpp:56] Could not initialize NNPACK! Reason: Unsupported hardware.\n",
      "[W907 07:22:22.919644870 NNPACK.cpp:56] Could not initialize NNPACK! Reason: Unsupported hardware.\n",
      "[W907 07:22:22.919821149 NNPACK.cpp:56] Could not initialize NNPACK! Reason: Unsupported hardware.\n",
      "[W907 07:22:22.919985196 NNPACK.cpp:56] Could not initialize NNPACK! Reason: Unsupported hardware.\n"
     ]
    },
    {
     "name": "stdout",
     "output_type": "stream",
     "text": [
      "Processing Images  ████████████████░░░░░░░░░░░░░░ 91 / 170 (53.53%)"
     ]
    },
    {
     "name": "stderr",
     "output_type": "stream",
     "text": [
      "[W907 07:22:24.529522390 NNPACK.cpp:56] Could not initialize NNPACK! Reason: Unsupported hardware.\n",
      "[W907 07:22:24.530808440 NNPACK.cpp:56] Could not initialize NNPACK! Reason: Unsupported hardware.\n",
      "[W907 07:22:24.531045593 NNPACK.cpp:56] Could not initialize NNPACK! Reason: Unsupported hardware.\n",
      "[W907 07:22:24.531196374 NNPACK.cpp:56] Could not initialize NNPACK! Reason: Unsupported hardware.\n"
     ]
    },
    {
     "name": "stdout",
     "output_type": "stream",
     "text": [
      "Processing Images  ████████████████░░░░░░░░░░░░░░ 92 / 170 (54.12%)"
     ]
    },
    {
     "name": "stderr",
     "output_type": "stream",
     "text": [
      "[W907 07:22:25.888148542 NNPACK.cpp:56] Could not initialize NNPACK! Reason: Unsupported hardware.\n",
      "[W907 07:22:25.889043823 NNPACK.cpp:56] Could not initialize NNPACK! Reason: Unsupported hardware.\n",
      "[W907 07:22:25.889756454 NNPACK.cpp:56] Could not initialize NNPACK! Reason: Unsupported hardware.\n",
      "[W907 07:22:25.889940607 NNPACK.cpp:56] Could not initialize NNPACK! Reason: Unsupported hardware.\n"
     ]
    },
    {
     "name": "stdout",
     "output_type": "stream",
     "text": [
      "Processing Images  ████████████████░░░░░░░░░░░░░░ 93 / 170 (54.71%)"
     ]
    },
    {
     "name": "stderr",
     "output_type": "stream",
     "text": [
      "[W907 07:22:26.050744327 NNPACK.cpp:56] Could not initialize NNPACK! Reason: Unsupported hardware.\n",
      "[W907 07:22:26.051566532 NNPACK.cpp:56] Could not initialize NNPACK! Reason: Unsupported hardware.\n",
      "[W907 07:22:26.051765784 NNPACK.cpp:56] Could not initialize NNPACK! Reason: Unsupported hardware.\n",
      "[W907 07:22:26.051911626 NNPACK.cpp:56] Could not initialize NNPACK! Reason: Unsupported hardware.\n"
     ]
    },
    {
     "name": "stdout",
     "output_type": "stream",
     "text": [
      "Processing Images  ████████████████░░░░░░░░░░░░░░ 94 / 170 (55.29%)"
     ]
    },
    {
     "name": "stderr",
     "output_type": "stream",
     "text": [
      "[W907 07:22:27.558637324 NNPACK.cpp:56] Could not initialize NNPACK! Reason: Unsupported hardware.\n",
      "[W907 07:22:27.559520062 NNPACK.cpp:56] Could not initialize NNPACK! Reason: Unsupported hardware.\n",
      "[W907 07:22:27.559708945 NNPACK.cpp:56] Could not initialize NNPACK! Reason: Unsupported hardware.\n",
      "[W907 07:22:27.559783514 NNPACK.cpp:56] Could not initialize NNPACK! Reason: Unsupported hardware.\n"
     ]
    },
    {
     "name": "stdout",
     "output_type": "stream",
     "text": [
      "Processing Images  ████████████████░░░░░░░░░░░░░░ 95 / 170 (55.88%)"
     ]
    },
    {
     "name": "stderr",
     "output_type": "stream",
     "text": [
      "[W907 07:22:28.807099800 NNPACK.cpp:56] Could not initialize NNPACK! Reason: Unsupported hardware.\n",
      "[W907 07:22:28.807849729 NNPACK.cpp:56] Could not initialize NNPACK! Reason: Unsupported hardware.\n",
      "[W907 07:22:28.808044734 NNPACK.cpp:56] Could not initialize NNPACK! Reason: Unsupported hardware.\n",
      "[W907 07:22:28.808202377 NNPACK.cpp:56] Could not initialize NNPACK! Reason: Unsupported hardware.\n"
     ]
    },
    {
     "name": "stdout",
     "output_type": "stream",
     "text": [
      "Processing Images  ████████████████░░░░░░░░░░░░░░ 96 / 170 (56.47%)"
     ]
    },
    {
     "name": "stderr",
     "output_type": "stream",
     "text": [
      "[W907 07:22:29.640212471 NNPACK.cpp:56] Could not initialize NNPACK! Reason: Unsupported hardware.\n",
      "[W907 07:22:29.647376185 NNPACK.cpp:56] Could not initialize NNPACK! Reason: Unsupported hardware.\n",
      "[W907 07:22:29.656218211 NNPACK.cpp:56] Could not initialize NNPACK! Reason: Unsupported hardware.\n",
      "[W907 07:22:29.664649612 NNPACK.cpp:56] Could not initialize NNPACK! Reason: Unsupported hardware.\n"
     ]
    },
    {
     "name": "stdout",
     "output_type": "stream",
     "text": [
      "Processing Images  █████████████████░░░░░░░░░░░░░ 97 / 170 (57.06%)"
     ]
    },
    {
     "name": "stderr",
     "output_type": "stream",
     "text": [
      "[W907 07:22:30.694982985 NNPACK.cpp:56] Could not initialize NNPACK! Reason: Unsupported hardware.\n",
      "[W907 07:22:30.696658824 NNPACK.cpp:56] Could not initialize NNPACK! Reason: Unsupported hardware.\n",
      "[W907 07:22:30.696743090 NNPACK.cpp:56] Could not initialize NNPACK! Reason: Unsupported hardware.\n",
      "[W907 07:22:30.696815746 NNPACK.cpp:56] Could not initialize NNPACK! Reason: Unsupported hardware.\n"
     ]
    },
    {
     "name": "stdout",
     "output_type": "stream",
     "text": [
      "Processing Images  █████████████████░░░░░░░░░░░░░ 98 / 170 (57.65%)"
     ]
    },
    {
     "name": "stderr",
     "output_type": "stream",
     "text": [
      "[W907 07:22:30.203630171 NNPACK.cpp:56] Could not initialize NNPACK! Reason: Unsupported hardware.\n",
      "[W907 07:22:30.204381012 NNPACK.cpp:56] Could not initialize NNPACK! Reason: Unsupported hardware.\n",
      "[W907 07:22:30.204546040 NNPACK.cpp:56] Could not initialize NNPACK! Reason: Unsupported hardware.\n",
      "[W907 07:22:30.204684829 NNPACK.cpp:56] Could not initialize NNPACK! Reason: Unsupported hardware.\n"
     ]
    },
    {
     "name": "stdout",
     "output_type": "stream",
     "text": [
      "Processing Images  █████████████████░░░░░░░░░░░░░ 99 / 170 (58.24%)"
     ]
    },
    {
     "name": "stderr",
     "output_type": "stream",
     "text": [
      "[W907 07:22:31.169832201 NNPACK.cpp:56] Could not initialize NNPACK! Reason: Unsupported hardware.\n",
      "[W907 07:22:31.178899077 NNPACK.cpp:56] Could not initialize NNPACK! Reason: Unsupported hardware.\n",
      "[W907 07:22:31.185805911 NNPACK.cpp:56] Could not initialize NNPACK! Reason: Unsupported hardware.\n",
      "[W907 07:22:31.191703822 NNPACK.cpp:56] Could not initialize NNPACK! Reason: Unsupported hardware.\n"
     ]
    },
    {
     "name": "stdout",
     "output_type": "stream",
     "text": [
      "Processing Images  █████████████████░░░░░░░░░░░░░ 100 / 170 (58.82%)"
     ]
    },
    {
     "name": "stderr",
     "output_type": "stream",
     "text": [
      "[W907 07:22:32.175921404 NNPACK.cpp:56] Could not initialize NNPACK! Reason: Unsupported hardware.\n",
      "[W907 07:22:32.176597697 NNPACK.cpp:56] Could not initialize NNPACK! Reason: Unsupported hardware.\n",
      "[W907 07:22:32.176700438 NNPACK.cpp:56] Could not initialize NNPACK! Reason: Unsupported hardware.\n",
      "[W907 07:22:32.176788203 NNPACK.cpp:56] Could not initialize NNPACK! Reason: Unsupported hardware.\n"
     ]
    },
    {
     "name": "stdout",
     "output_type": "stream",
     "text": [
      "Processing Images  █████████████████░░░░░░░░░░░░░ 101 / 170 (59.41%)"
     ]
    },
    {
     "name": "stderr",
     "output_type": "stream",
     "text": [
      "[W907 07:22:33.117581449 NNPACK.cpp:56] Could not initialize NNPACK! Reason: Unsupported hardware.\n",
      "[W907 07:22:33.118330727 NNPACK.cpp:56] Could not initialize NNPACK! Reason: Unsupported hardware.\n",
      "[W907 07:22:33.118508158 NNPACK.cpp:56] Could not initialize NNPACK! Reason: Unsupported hardware.\n",
      "[W907 07:22:33.118629034 NNPACK.cpp:56] Could not initialize NNPACK! Reason: Unsupported hardware.\n"
     ]
    },
    {
     "name": "stdout",
     "output_type": "stream",
     "text": [
      "Processing Images  ██████████████████░░░░░░░░░░░░ 102 / 170 (60.00%)"
     ]
    },
    {
     "name": "stderr",
     "output_type": "stream",
     "text": [
      "[W907 07:22:34.807483179 NNPACK.cpp:56] Could not initialize NNPACK! Reason: Unsupported hardware.\n",
      "[W907 07:22:34.808162799 NNPACK.cpp:56] Could not initialize NNPACK! Reason: Unsupported hardware.\n",
      "[W907 07:22:34.808311836 NNPACK.cpp:56] Could not initialize NNPACK! Reason: Unsupported hardware.\n",
      "[W907 07:22:34.808432141 NNPACK.cpp:56] Could not initialize NNPACK! Reason: Unsupported hardware.\n"
     ]
    },
    {
     "name": "stdout",
     "output_type": "stream",
     "text": [
      "Processing Images  ██████████████████░░░░░░░░░░░░ 103 / 170 (60.59%)"
     ]
    },
    {
     "name": "stderr",
     "output_type": "stream",
     "text": [
      "[W907 07:22:34.339232304 NNPACK.cpp:56] Could not initialize NNPACK! Reason: Unsupported hardware.\n",
      "[W907 07:22:34.339986301 NNPACK.cpp:56] Could not initialize NNPACK! Reason: Unsupported hardware.\n",
      "[W907 07:22:34.340353557 NNPACK.cpp:56] Could not initialize NNPACK! Reason: Unsupported hardware.\n",
      "[W907 07:22:34.340517472 NNPACK.cpp:56] Could not initialize NNPACK! Reason: Unsupported hardware.\n"
     ]
    },
    {
     "name": "stdout",
     "output_type": "stream",
     "text": [
      "Processing Images  ██████████████████░░░░░░░░░░░░ 104 / 170 (61.18%)"
     ]
    },
    {
     "name": "stderr",
     "output_type": "stream",
     "text": [
      "[W907 07:22:35.118531305 NNPACK.cpp:56] Could not initialize NNPACK! Reason: Unsupported hardware.\n",
      "[W907 07:22:35.119126937 NNPACK.cpp:56] Could not initialize NNPACK! Reason: Unsupported hardware.\n",
      "[W907 07:22:35.119220241 NNPACK.cpp:56] Could not initialize NNPACK! Reason: Unsupported hardware.\n",
      "[W907 07:22:35.119322964 NNPACK.cpp:56] Could not initialize NNPACK! Reason: Unsupported hardware.\n"
     ]
    },
    {
     "name": "stdout",
     "output_type": "stream",
     "text": [
      "Processing Images  ██████████████████░░░░░░░░░░░░ 105 / 170 (61.76%)"
     ]
    },
    {
     "name": "stderr",
     "output_type": "stream",
     "text": [
      "[W907 07:22:36.977815057 NNPACK.cpp:56] Could not initialize NNPACK! Reason: Unsupported hardware.\n",
      "[W907 07:22:36.979170447 NNPACK.cpp:56] Could not initialize NNPACK! Reason: Unsupported hardware.\n",
      "[W907 07:22:36.979377544 NNPACK.cpp:56] Could not initialize NNPACK! Reason: Unsupported hardware.\n",
      "[W907 07:22:36.979524758 NNPACK.cpp:56] Could not initialize NNPACK! Reason: Unsupported hardware.\n"
     ]
    },
    {
     "name": "stdout",
     "output_type": "stream",
     "text": [
      "Processing Images  ██████████████████░░░░░░░░░░░░ 106 / 170 (62.35%)"
     ]
    },
    {
     "name": "stderr",
     "output_type": "stream",
     "text": [
      "[W907 07:22:37.375284621 NNPACK.cpp:56] Could not initialize NNPACK! Reason: Unsupported hardware.\n",
      "[W907 07:22:37.376062995 NNPACK.cpp:56] Could not initialize NNPACK! Reason: Unsupported hardware.\n",
      "[W907 07:22:37.376131072 NNPACK.cpp:56] Could not initialize NNPACK! Reason: Unsupported hardware.\n",
      "[W907 07:22:37.376203327 NNPACK.cpp:56] Could not initialize NNPACK! Reason: Unsupported hardware.\n"
     ]
    },
    {
     "name": "stdout",
     "output_type": "stream",
     "text": [
      "Processing Images  ██████████████████░░░░░░░░░░░░ 107 / 170 (62.94%)"
     ]
    },
    {
     "name": "stderr",
     "output_type": "stream",
     "text": [
      "[W907 07:22:37.818506219 NNPACK.cpp:56] Could not initialize NNPACK! Reason: Unsupported hardware.\n",
      "[W907 07:22:37.819247322 NNPACK.cpp:56] Could not initialize NNPACK! Reason: Unsupported hardware.\n",
      "[W907 07:22:37.819439381 NNPACK.cpp:56] Could not initialize NNPACK! Reason: Unsupported hardware.\n",
      "[W907 07:22:37.819590654 NNPACK.cpp:56] Could not initialize NNPACK! Reason: Unsupported hardware.\n"
     ]
    },
    {
     "name": "stdout",
     "output_type": "stream",
     "text": [
      "Processing Images  ███████████████████░░░░░░░░░░░ 108 / 170 (63.53%)"
     ]
    },
    {
     "name": "stderr",
     "output_type": "stream",
     "text": [
      "[W907 07:22:38.459047251 NNPACK.cpp:56] Could not initialize NNPACK! Reason: Unsupported hardware.\n",
      "[W907 07:22:38.459835413 NNPACK.cpp:56] Could not initialize NNPACK! Reason: Unsupported hardware.\n",
      "[W907 07:22:38.460156332 NNPACK.cpp:56] Could not initialize NNPACK! Reason: Unsupported hardware.\n",
      "[W907 07:22:38.460301713 NNPACK.cpp:56] Could not initialize NNPACK! Reason: Unsupported hardware.\n"
     ]
    },
    {
     "name": "stdout",
     "output_type": "stream",
     "text": [
      "Processing Images  ███████████████████░░░░░░░░░░░ 109 / 170 (64.12%)"
     ]
    },
    {
     "name": "stderr",
     "output_type": "stream",
     "text": [
      "[W907 07:22:38.003340774 NNPACK.cpp:56] Could not initialize NNPACK! Reason: Unsupported hardware.\n",
      "[W907 07:22:38.004152019 NNPACK.cpp:56] Could not initialize NNPACK! Reason: Unsupported hardware.\n",
      "[W907 07:22:38.004348626 NNPACK.cpp:56] Could not initialize NNPACK! Reason: Unsupported hardware.\n",
      "[W907 07:22:38.004497595 NNPACK.cpp:56] Could not initialize NNPACK! Reason: Unsupported hardware.\n"
     ]
    },
    {
     "name": "stdout",
     "output_type": "stream",
     "text": [
      "Processing Images  ███████████████████░░░░░░░░░░░ 110 / 170 (64.71%)"
     ]
    },
    {
     "name": "stderr",
     "output_type": "stream",
     "text": [
      "[W907 07:22:39.600148173 NNPACK.cpp:56] Could not initialize NNPACK! Reason: Unsupported hardware.\n",
      "[W907 07:22:39.600934992 NNPACK.cpp:56] Could not initialize NNPACK! Reason: Unsupported hardware.\n",
      "[W907 07:22:39.601023498 NNPACK.cpp:56] Could not initialize NNPACK! Reason: Unsupported hardware.\n",
      "[W907 07:22:39.601096584 NNPACK.cpp:56] Could not initialize NNPACK! Reason: Unsupported hardware.\n"
     ]
    },
    {
     "name": "stdout",
     "output_type": "stream",
     "text": [
      "Processing Images  ███████████████████░░░░░░░░░░░ 111 / 170 (65.29%)"
     ]
    },
    {
     "name": "stderr",
     "output_type": "stream",
     "text": [
      "[W907 07:22:40.235940169 NNPACK.cpp:56] Could not initialize NNPACK! Reason: Unsupported hardware.\n",
      "[W907 07:22:40.236948451 NNPACK.cpp:56] Could not initialize NNPACK! Reason: Unsupported hardware.\n",
      "[W907 07:22:40.237185564 NNPACK.cpp:56] Could not initialize NNPACK! Reason: Unsupported hardware.\n",
      "[W907 07:22:40.237335123 NNPACK.cpp:56] Could not initialize NNPACK! Reason: Unsupported hardware.\n"
     ]
    },
    {
     "name": "stdout",
     "output_type": "stream",
     "text": [
      "Processing Images  ███████████████████░░░░░░░░░░░ 112 / 170 (65.88%)"
     ]
    },
    {
     "name": "stderr",
     "output_type": "stream",
     "text": [
      "[W907 07:22:41.310685466 NNPACK.cpp:56] Could not initialize NNPACK! Reason: Unsupported hardware.\n",
      "[W907 07:22:41.311586889 NNPACK.cpp:56] Could not initialize NNPACK! Reason: Unsupported hardware.\n",
      "[W907 07:22:41.311958442 NNPACK.cpp:56] Could not initialize NNPACK! Reason: Unsupported hardware.\n",
      "[W907 07:22:41.312135322 NNPACK.cpp:56] Could not initialize NNPACK! Reason: Unsupported hardware.\n"
     ]
    },
    {
     "name": "stdout",
     "output_type": "stream",
     "text": [
      "Processing Images  ███████████████████░░░░░░░░░░░ 113 / 170 (66.47%)"
     ]
    },
    {
     "name": "stderr",
     "output_type": "stream",
     "text": [
      "[W907 07:22:42.811036676 NNPACK.cpp:56] Could not initialize NNPACK! Reason: Unsupported hardware.\n",
      "[W907 07:22:42.811757031 NNPACK.cpp:56] Could not initialize NNPACK! Reason: Unsupported hardware.\n",
      "[W907 07:22:42.811925195 NNPACK.cpp:56] Could not initialize NNPACK! Reason: Unsupported hardware.\n",
      "[W907 07:22:42.812055618 NNPACK.cpp:56] Could not initialize NNPACK! Reason: Unsupported hardware.\n"
     ]
    },
    {
     "name": "stdout",
     "output_type": "stream",
     "text": [
      "Processing Images  ████████████████████░░░░░░░░░░ 114 / 170 (67.06%)"
     ]
    },
    {
     "name": "stderr",
     "output_type": "stream",
     "text": [
      "[W907 07:22:43.130225462 NNPACK.cpp:56] Could not initialize NNPACK! Reason: Unsupported hardware.\n",
      "[W907 07:22:43.131103712 NNPACK.cpp:56] Could not initialize NNPACK! Reason: Unsupported hardware.\n",
      "[W907 07:22:43.131506684 NNPACK.cpp:56] Could not initialize NNPACK! Reason: Unsupported hardware.\n",
      "[W907 07:22:43.131726825 NNPACK.cpp:56] Could not initialize NNPACK! Reason: Unsupported hardware.\n"
     ]
    },
    {
     "name": "stdout",
     "output_type": "stream",
     "text": [
      "Processing Images  ████████████████████░░░░░░░░░░ 115 / 170 (67.65%)"
     ]
    },
    {
     "name": "stderr",
     "output_type": "stream",
     "text": [
      "[W907 07:22:45.576279337 NNPACK.cpp:56] Could not initialize NNPACK! Reason: Unsupported hardware.\n",
      "[W907 07:22:45.577190409 NNPACK.cpp:56] Could not initialize NNPACK! Reason: Unsupported hardware.\n",
      "[W907 07:22:45.578149419 NNPACK.cpp:56] Could not initialize NNPACK! Reason: Unsupported hardware.\n",
      "[W907 07:22:45.578280874 NNPACK.cpp:56] Could not initialize NNPACK! Reason: Unsupported hardware.\n"
     ]
    },
    {
     "name": "stdout",
     "output_type": "stream",
     "text": [
      "Processing Images  ████████████████████░░░░░░░░░░ 116 / 170 (68.24%)"
     ]
    },
    {
     "name": "stderr",
     "output_type": "stream",
     "text": [
      "[W907 07:22:46.423444348 NNPACK.cpp:56] Could not initialize NNPACK! Reason: Unsupported hardware.\n",
      "[W907 07:22:46.424310866 NNPACK.cpp:56] Could not initialize NNPACK! Reason: Unsupported hardware.\n",
      "[W907 07:22:46.424505569 NNPACK.cpp:56] Could not initialize NNPACK! Reason: Unsupported hardware.\n",
      "[W907 07:22:46.424732342 NNPACK.cpp:56] Could not initialize NNPACK! Reason: Unsupported hardware.\n"
     ]
    },
    {
     "name": "stdout",
     "output_type": "stream",
     "text": [
      "Processing Images  ████████████████████░░░░░░░░░░ 117 / 170 (68.82%)"
     ]
    },
    {
     "name": "stderr",
     "output_type": "stream",
     "text": [
      "[W907 07:22:47.767914572 NNPACK.cpp:56] Could not initialize NNPACK! Reason: Unsupported hardware.\n",
      "[W907 07:22:47.769533315 NNPACK.cpp:56] Could not initialize NNPACK! Reason: Unsupported hardware.\n",
      "[W907 07:22:47.771063641 NNPACK.cpp:56] Could not initialize NNPACK! Reason: Unsupported hardware.\n",
      "[W907 07:22:47.775162553 NNPACK.cpp:56] Could not initialize NNPACK! Reason: Unsupported hardware.\n"
     ]
    },
    {
     "name": "stdout",
     "output_type": "stream",
     "text": [
      "Processing Images  ████████████████████░░░░░░░░░░ 118 / 170 (69.41%)"
     ]
    },
    {
     "name": "stderr",
     "output_type": "stream",
     "text": [
      "[W907 07:22:47.266160623 NNPACK.cpp:56] Could not initialize NNPACK! Reason: Unsupported hardware.\n",
      "[W907 07:22:47.266873725 NNPACK.cpp:56] Could not initialize NNPACK! Reason: Unsupported hardware.\n",
      "[W907 07:22:47.267040015 NNPACK.cpp:56] Could not initialize NNPACK! Reason: Unsupported hardware.\n",
      "[W907 07:22:47.267142997 NNPACK.cpp:56] Could not initialize NNPACK! Reason: Unsupported hardware.\n"
     ]
    },
    {
     "name": "stdout",
     "output_type": "stream",
     "text": [
      "Processing Images  █████████████████████░░░░░░░░░ 119 / 170 (70.00%)"
     ]
    },
    {
     "name": "stderr",
     "output_type": "stream",
     "text": [
      "[W907 07:22:48.819021682 NNPACK.cpp:56] Could not initialize NNPACK! Reason: Unsupported hardware.\n",
      "[W907 07:22:48.819869305 NNPACK.cpp:56] Could not initialize NNPACK! Reason: Unsupported hardware.\n",
      "[W907 07:22:48.819946238 NNPACK.cpp:56] Could not initialize NNPACK! Reason: Unsupported hardware.\n",
      "[W907 07:22:48.820029063 NNPACK.cpp:56] Could not initialize NNPACK! Reason: Unsupported hardware.\n"
     ]
    },
    {
     "name": "stdout",
     "output_type": "stream",
     "text": [
      "Processing Images  █████████████████████░░░░░░░░░ 120 / 170 (70.59%)"
     ]
    },
    {
     "name": "stderr",
     "output_type": "stream",
     "text": [
      "[W907 07:22:48.305166101 NNPACK.cpp:56] Could not initialize NNPACK! Reason: Unsupported hardware.\n",
      "[W907 07:22:48.306023442 NNPACK.cpp:56] Could not initialize NNPACK! Reason: Unsupported hardware.\n",
      "[W907 07:22:48.306190053 NNPACK.cpp:56] Could not initialize NNPACK! Reason: Unsupported hardware.\n",
      "[W907 07:22:48.306309817 NNPACK.cpp:56] Could not initialize NNPACK! Reason: Unsupported hardware.\n"
     ]
    },
    {
     "name": "stdout",
     "output_type": "stream",
     "text": [
      "Processing Images  █████████████████████░░░░░░░░░ 121 / 170 (71.18%)"
     ]
    },
    {
     "name": "stderr",
     "output_type": "stream",
     "text": [
      "[W907 07:22:49.816380102 NNPACK.cpp:56] Could not initialize NNPACK! Reason: Unsupported hardware.\n",
      "[W907 07:22:49.820759207 NNPACK.cpp:56] Could not initialize NNPACK! Reason: Unsupported hardware.\n",
      "[W907 07:22:49.829540340 NNPACK.cpp:56] Could not initialize NNPACK! Reason: Unsupported hardware.\n",
      "[W907 07:22:49.834216871 NNPACK.cpp:56] Could not initialize NNPACK! Reason: Unsupported hardware.\n"
     ]
    },
    {
     "name": "stdout",
     "output_type": "stream",
     "text": [
      "Processing Images  █████████████████████░░░░░░░░░ 122 / 170 (71.76%)"
     ]
    },
    {
     "name": "stderr",
     "output_type": "stream",
     "text": [
      "[W907 07:22:50.531710988 NNPACK.cpp:56] Could not initialize NNPACK! Reason: Unsupported hardware.\n",
      "[W907 07:22:50.532446923 NNPACK.cpp:56] Could not initialize NNPACK! Reason: Unsupported hardware.\n",
      "[W907 07:22:50.532621969 NNPACK.cpp:56] Could not initialize NNPACK! Reason: Unsupported hardware.\n",
      "[W907 07:22:50.533442741 NNPACK.cpp:56] Could not initialize NNPACK! Reason: Unsupported hardware.\n"
     ]
    },
    {
     "name": "stdout",
     "output_type": "stream",
     "text": [
      "Processing Images  █████████████████████░░░░░░░░░ 123 / 170 (72.35%)"
     ]
    },
    {
     "name": "stderr",
     "output_type": "stream",
     "text": [
      "[W907 07:22:50.010955086 NNPACK.cpp:56] Could not initialize NNPACK! Reason: Unsupported hardware.\n",
      "[W907 07:22:50.011944182 NNPACK.cpp:56] Could not initialize NNPACK! Reason: Unsupported hardware.\n",
      "[W907 07:22:50.012154525 NNPACK.cpp:56] Could not initialize NNPACK! Reason: Unsupported hardware.\n",
      "[W907 07:22:50.012279439 NNPACK.cpp:56] Could not initialize NNPACK! Reason: Unsupported hardware.\n"
     ]
    },
    {
     "name": "stdout",
     "output_type": "stream",
     "text": [
      "Processing Images  █████████████████████░░░░░░░░░ 124 / 170 (72.94%)"
     ]
    },
    {
     "name": "stderr",
     "output_type": "stream",
     "text": [
      "[W907 07:22:51.490101641 NNPACK.cpp:56] Could not initialize NNPACK! Reason: Unsupported hardware.\n",
      "[W907 07:22:51.490845420 NNPACK.cpp:56] Could not initialize NNPACK! Reason: Unsupported hardware.\n",
      "[W907 07:22:51.490918927 NNPACK.cpp:56] Could not initialize NNPACK! Reason: Unsupported hardware.\n",
      "[W907 07:22:51.490991111 NNPACK.cpp:56] Could not initialize NNPACK! Reason: Unsupported hardware.\n"
     ]
    },
    {
     "name": "stdout",
     "output_type": "stream",
     "text": [
      "Processing Images  ██████████████████████░░░░░░░░ 125 / 170 (73.53%)"
     ]
    },
    {
     "name": "stderr",
     "output_type": "stream",
     "text": [
      "[W907 07:22:51.993163834 NNPACK.cpp:56] Could not initialize NNPACK! Reason: Unsupported hardware.\n",
      "[W907 07:22:51.993903765 NNPACK.cpp:56] Could not initialize NNPACK! Reason: Unsupported hardware.\n",
      "[W907 07:22:51.994105181 NNPACK.cpp:56] Could not initialize NNPACK! Reason: Unsupported hardware.\n",
      "[W907 07:22:51.994226919 NNPACK.cpp:56] Could not initialize NNPACK! Reason: Unsupported hardware.\n"
     ]
    },
    {
     "name": "stdout",
     "output_type": "stream",
     "text": [
      "Processing Images  ██████████████████████░░░░░░░░ 126 / 170 (74.12%)"
     ]
    },
    {
     "name": "stderr",
     "output_type": "stream",
     "text": [
      "[W907 07:22:52.406333961 NNPACK.cpp:56] Could not initialize NNPACK! Reason: Unsupported hardware.\n",
      "[W907 07:22:52.407267103 NNPACK.cpp:56] Could not initialize NNPACK! Reason: Unsupported hardware.\n",
      "[W907 07:22:52.407448111 NNPACK.cpp:56] Could not initialize NNPACK! Reason: Unsupported hardware.\n",
      "[W907 07:22:52.407597961 NNPACK.cpp:56] Could not initialize NNPACK! Reason: Unsupported hardware.\n"
     ]
    },
    {
     "name": "stdout",
     "output_type": "stream",
     "text": [
      "Processing Images  ██████████████████████░░░░░░░░ 127 / 170 (74.71%)"
     ]
    },
    {
     "name": "stderr",
     "output_type": "stream",
     "text": [
      "[W907 07:22:52.879363026 NNPACK.cpp:56] Could not initialize NNPACK! Reason: Unsupported hardware.\n",
      "[W907 07:22:52.880110792 NNPACK.cpp:56] Could not initialize NNPACK! Reason: Unsupported hardware.\n",
      "[W907 07:22:52.880278275 NNPACK.cpp:56] Could not initialize NNPACK! Reason: Unsupported hardware.\n",
      "[W907 07:22:52.880396286 NNPACK.cpp:56] Could not initialize NNPACK! Reason: Unsupported hardware.\n"
     ]
    },
    {
     "name": "stdout",
     "output_type": "stream",
     "text": [
      "Processing Images  ██████████████████████░░░░░░░░ 128 / 170 (75.29%)"
     ]
    },
    {
     "name": "stderr",
     "output_type": "stream",
     "text": [
      "[W907 07:22:53.374775938 NNPACK.cpp:56] Could not initialize NNPACK! Reason: Unsupported hardware.\n",
      "[W907 07:22:53.375675288 NNPACK.cpp:56] Could not initialize NNPACK! Reason: Unsupported hardware.\n",
      "[W907 07:22:53.375888246 NNPACK.cpp:56] Could not initialize NNPACK! Reason: Unsupported hardware.\n",
      "[W907 07:22:53.376025461 NNPACK.cpp:56] Could not initialize NNPACK! Reason: Unsupported hardware.\n"
     ]
    },
    {
     "name": "stdout",
     "output_type": "stream",
     "text": [
      "Processing Images  ██████████████████████░░░░░░░░ 129 / 170 (75.88%)"
     ]
    },
    {
     "name": "stderr",
     "output_type": "stream",
     "text": [
      "[W907 07:22:53.987403945 NNPACK.cpp:56] Could not initialize NNPACK! Reason: Unsupported hardware.\n",
      "[W907 07:22:53.988195392 NNPACK.cpp:56] Could not initialize NNPACK! Reason: Unsupported hardware.\n",
      "[W907 07:22:53.988279600 NNPACK.cpp:56] Could not initialize NNPACK! Reason: Unsupported hardware.\n",
      "[W907 07:22:53.988352135 NNPACK.cpp:56] Could not initialize NNPACK! Reason: Unsupported hardware.\n"
     ]
    },
    {
     "name": "stdout",
     "output_type": "stream",
     "text": [
      "Processing Images  ██████████████████████░░░░░░░░ 130 / 170 (76.47%)"
     ]
    },
    {
     "name": "stderr",
     "output_type": "stream",
     "text": [
      "[W907 07:22:54.534969650 NNPACK.cpp:56] Could not initialize NNPACK! Reason: Unsupported hardware.\n",
      "[W907 07:22:54.536241093 NNPACK.cpp:56] Could not initialize NNPACK! Reason: Unsupported hardware.\n",
      "[W907 07:22:54.538113699 NNPACK.cpp:56] Could not initialize NNPACK! Reason: Unsupported hardware.\n",
      "[W907 07:22:54.538348688 NNPACK.cpp:56] Could not initialize NNPACK! Reason: Unsupported hardware.\n"
     ]
    },
    {
     "name": "stdout",
     "output_type": "stream",
     "text": [
      "Processing Images  ███████████████████████░░░░░░░ 131 / 170 (77.06%)"
     ]
    },
    {
     "name": "stderr",
     "output_type": "stream",
     "text": [
      "[W907 07:22:54.281167029 NNPACK.cpp:56] Could not initialize NNPACK! Reason: Unsupported hardware.\n",
      "[W907 07:22:54.281918623 NNPACK.cpp:56] Could not initialize NNPACK! Reason: Unsupported hardware.\n",
      "[W907 07:22:54.282009773 NNPACK.cpp:56] Could not initialize NNPACK! Reason: Unsupported hardware.\n",
      "[W907 07:22:54.282085805 NNPACK.cpp:56] Could not initialize NNPACK! Reason: Unsupported hardware.\n"
     ]
    },
    {
     "name": "stdout",
     "output_type": "stream",
     "text": [
      "Processing Images  ███████████████████████░░░░░░░ 132 / 170 (77.65%)"
     ]
    },
    {
     "name": "stderr",
     "output_type": "stream",
     "text": [
      "[W907 07:22:55.949142692 NNPACK.cpp:56] Could not initialize NNPACK! Reason: Unsupported hardware.\n",
      "[W907 07:22:55.950104507 NNPACK.cpp:56] Could not initialize NNPACK! Reason: Unsupported hardware.\n",
      "[W907 07:22:55.950386774 NNPACK.cpp:56] Could not initialize NNPACK! Reason: Unsupported hardware.\n",
      "[W907 07:22:55.950578031 NNPACK.cpp:56] Could not initialize NNPACK! Reason: Unsupported hardware.\n"
     ]
    },
    {
     "name": "stdout",
     "output_type": "stream",
     "text": [
      "Processing Images  ███████████████████████░░░░░░░ 133 / 170 (78.24%)"
     ]
    },
    {
     "name": "stderr",
     "output_type": "stream",
     "text": [
      "[W907 07:22:56.451965678 NNPACK.cpp:56] Could not initialize NNPACK! Reason: Unsupported hardware.\n",
      "[W907 07:22:56.452714948 NNPACK.cpp:56] Could not initialize NNPACK! Reason: Unsupported hardware.\n",
      "[W907 07:22:56.452887299 NNPACK.cpp:56] Could not initialize NNPACK! Reason: Unsupported hardware.\n",
      "[W907 07:22:56.453021290 NNPACK.cpp:56] Could not initialize NNPACK! Reason: Unsupported hardware.\n"
     ]
    },
    {
     "name": "stdout",
     "output_type": "stream",
     "text": [
      "Processing Images  ███████████████████████░░░░░░░ 134 / 170 (78.82%)"
     ]
    },
    {
     "name": "stderr",
     "output_type": "stream",
     "text": [
      "[W907 07:22:56.951379541 NNPACK.cpp:56] Could not initialize NNPACK! Reason: Unsupported hardware.\n",
      "[W907 07:22:56.952084747 NNPACK.cpp:56] Could not initialize NNPACK! Reason: Unsupported hardware.\n",
      "[W907 07:22:56.952223196 NNPACK.cpp:56] Could not initialize NNPACK! Reason: Unsupported hardware.\n",
      "[W907 07:22:56.952294869 NNPACK.cpp:56] Could not initialize NNPACK! Reason: Unsupported hardware.\n"
     ]
    },
    {
     "name": "stdout",
     "output_type": "stream",
     "text": [
      "Processing Images  ███████████████████████░░░░░░░ 135 / 170 (79.41%)"
     ]
    },
    {
     "name": "stderr",
     "output_type": "stream",
     "text": [
      "[W907 07:22:57.842762131 NNPACK.cpp:56] Could not initialize NNPACK! Reason: Unsupported hardware.\n",
      "[W907 07:22:57.843548390 NNPACK.cpp:56] Could not initialize NNPACK! Reason: Unsupported hardware.\n",
      "[W907 07:22:57.843723366 NNPACK.cpp:56] Could not initialize NNPACK! Reason: Unsupported hardware.\n",
      "[W907 07:22:57.843847338 NNPACK.cpp:56] Could not initialize NNPACK! Reason: Unsupported hardware.\n"
     ]
    },
    {
     "name": "stdout",
     "output_type": "stream",
     "text": [
      "Processing Images  ████████████████████████░░░░░░ 136 / 170 (80.00%)"
     ]
    },
    {
     "name": "stderr",
     "output_type": "stream",
     "text": [
      "[W907 07:22:58.691859732 NNPACK.cpp:56] Could not initialize NNPACK! Reason: Unsupported hardware.\n",
      "[W907 07:22:58.692628567 NNPACK.cpp:56] Could not initialize NNPACK! Reason: Unsupported hardware.\n",
      "[W907 07:22:58.692828341 NNPACK.cpp:56] Could not initialize NNPACK! Reason: Unsupported hardware.\n",
      "[W907 07:22:58.692956450 NNPACK.cpp:56] Could not initialize NNPACK! Reason: Unsupported hardware.\n"
     ]
    },
    {
     "name": "stdout",
     "output_type": "stream",
     "text": [
      "Processing Images  ████████████████████████░░░░░░ 137 / 170 (80.59%)"
     ]
    },
    {
     "name": "stderr",
     "output_type": "stream",
     "text": [
      "[W907 07:22:58.075612032 NNPACK.cpp:56] Could not initialize NNPACK! Reason: Unsupported hardware.\n",
      "[W907 07:22:58.076360138 NNPACK.cpp:56] Could not initialize NNPACK! Reason: Unsupported hardware.\n",
      "[W907 07:22:58.076515378 NNPACK.cpp:56] Could not initialize NNPACK! Reason: Unsupported hardware.\n",
      "[W907 07:22:58.076637386 NNPACK.cpp:56] Could not initialize NNPACK! Reason: Unsupported hardware.\n"
     ]
    },
    {
     "name": "stdout",
     "output_type": "stream",
     "text": [
      "Processing Images  ████████████████████████░░░░░░ 138 / 170 (81.18%)"
     ]
    },
    {
     "name": "stderr",
     "output_type": "stream",
     "text": [
      "[W907 07:22:59.876533806 NNPACK.cpp:56] Could not initialize NNPACK! Reason: Unsupported hardware.\n",
      "[W907 07:22:59.877261484 NNPACK.cpp:56] Could not initialize NNPACK! Reason: Unsupported hardware.\n",
      "[W907 07:22:59.877427344 NNPACK.cpp:56] Could not initialize NNPACK! Reason: Unsupported hardware.\n",
      "[W907 07:22:59.877557256 NNPACK.cpp:56] Could not initialize NNPACK! Reason: Unsupported hardware.\n"
     ]
    },
    {
     "name": "stdout",
     "output_type": "stream",
     "text": [
      "Processing Images  ████████████████████████░░░░░░ 139 / 170 (81.76%)"
     ]
    },
    {
     "name": "stderr",
     "output_type": "stream",
     "text": [
      "[W907 07:22:59.346607645 NNPACK.cpp:56] Could not initialize NNPACK! Reason: Unsupported hardware.\n",
      "[W907 07:22:59.347324483 NNPACK.cpp:56] Could not initialize NNPACK! Reason: Unsupported hardware.\n",
      "[W907 07:22:59.347518225 NNPACK.cpp:56] Could not initialize NNPACK! Reason: Unsupported hardware.\n",
      "[W907 07:22:59.347623722 NNPACK.cpp:56] Could not initialize NNPACK! Reason: Unsupported hardware.\n"
     ]
    },
    {
     "name": "stdout",
     "output_type": "stream",
     "text": [
      "Processing Images  ████████████████████████░░░░░░ 140 / 170 (82.35%)"
     ]
    },
    {
     "name": "stderr",
     "output_type": "stream",
     "text": [
      "[W907 07:23:00.210552835 NNPACK.cpp:56] Could not initialize NNPACK! Reason: Unsupported hardware.\n",
      "[W907 07:23:00.211498380 NNPACK.cpp:56] Could not initialize NNPACK! Reason: Unsupported hardware.\n",
      "[W907 07:23:00.211677324 NNPACK.cpp:56] Could not initialize NNPACK! Reason: Unsupported hardware.\n",
      "[W907 07:23:00.211795184 NNPACK.cpp:56] Could not initialize NNPACK! Reason: Unsupported hardware.\n"
     ]
    },
    {
     "name": "stdout",
     "output_type": "stream",
     "text": [
      "Processing Images  ████████████████████████░░░░░░ 141 / 170 (82.94%)"
     ]
    },
    {
     "name": "stderr",
     "output_type": "stream",
     "text": [
      "[W907 07:23:01.322711504 NNPACK.cpp:56] Could not initialize NNPACK! Reason: Unsupported hardware.\n",
      "[W907 07:23:01.323563353 NNPACK.cpp:56] Could not initialize NNPACK! Reason: Unsupported hardware.\n",
      "[W907 07:23:01.323746335 NNPACK.cpp:56] Could not initialize NNPACK! Reason: Unsupported hardware.\n",
      "[W907 07:23:01.323879344 NNPACK.cpp:56] Could not initialize NNPACK! Reason: Unsupported hardware.\n"
     ]
    },
    {
     "name": "stdout",
     "output_type": "stream",
     "text": [
      "Processing Images  █████████████████████████░░░░░ 142 / 170 (83.53%)"
     ]
    },
    {
     "name": "stderr",
     "output_type": "stream",
     "text": [
      "[W907 07:23:02.920960107 NNPACK.cpp:56] Could not initialize NNPACK! Reason: Unsupported hardware.\n",
      "[W907 07:23:02.921705969 NNPACK.cpp:56] Could not initialize NNPACK! Reason: Unsupported hardware.\n",
      "[W907 07:23:02.921877860 NNPACK.cpp:56] Could not initialize NNPACK! Reason: Unsupported hardware.\n",
      "[W907 07:23:02.922008554 NNPACK.cpp:56] Could not initialize NNPACK! Reason: Unsupported hardware.\n"
     ]
    },
    {
     "name": "stdout",
     "output_type": "stream",
     "text": [
      "Processing Images  █████████████████████████░░░░░ 143 / 170 (84.12%)"
     ]
    },
    {
     "name": "stderr",
     "output_type": "stream",
     "text": [
      "[W907 07:23:03.431704412 NNPACK.cpp:56] Could not initialize NNPACK! Reason: Unsupported hardware.\n",
      "[W907 07:23:03.433160020 NNPACK.cpp:56] Could not initialize NNPACK! Reason: Unsupported hardware.\n",
      "[W907 07:23:03.433357208 NNPACK.cpp:56] Could not initialize NNPACK! Reason: Unsupported hardware.\n",
      "[W907 07:23:03.433509723 NNPACK.cpp:56] Could not initialize NNPACK! Reason: Unsupported hardware.\n"
     ]
    },
    {
     "name": "stdout",
     "output_type": "stream",
     "text": [
      "Processing Images  █████████████████████████░░░░░ 144 / 170 (84.71%)"
     ]
    },
    {
     "name": "stderr",
     "output_type": "stream",
     "text": [
      "[W907 07:23:03.323152567 NNPACK.cpp:56] Could not initialize NNPACK! Reason: Unsupported hardware.\n",
      "[W907 07:23:03.323862603 NNPACK.cpp:56] Could not initialize NNPACK! Reason: Unsupported hardware.\n",
      "[W907 07:23:03.323937683 NNPACK.cpp:56] Could not initialize NNPACK! Reason: Unsupported hardware.\n",
      "[W907 07:23:03.324022691 NNPACK.cpp:56] Could not initialize NNPACK! Reason: Unsupported hardware.\n"
     ]
    },
    {
     "name": "stdout",
     "output_type": "stream",
     "text": [
      "Processing Images  █████████████████████████░░░░░ 145 / 170 (85.29%)"
     ]
    },
    {
     "name": "stderr",
     "output_type": "stream",
     "text": [
      "[W907 07:23:05.411691131 NNPACK.cpp:56] Could not initialize NNPACK! Reason: Unsupported hardware.\n",
      "[W907 07:23:05.412331967 NNPACK.cpp:56] Could not initialize NNPACK! Reason: Unsupported hardware.\n",
      "[W907 07:23:05.412430922 NNPACK.cpp:56] Could not initialize NNPACK! Reason: Unsupported hardware.\n",
      "[W907 07:23:05.412517604 NNPACK.cpp:56] Could not initialize NNPACK! Reason: Unsupported hardware.\n"
     ]
    },
    {
     "name": "stdout",
     "output_type": "stream",
     "text": [
      "Processing Images  █████████████████████████░░░░░ 146 / 170 (85.88%)"
     ]
    },
    {
     "name": "stderr",
     "output_type": "stream",
     "text": [
      "[W907 07:23:05.907198011 NNPACK.cpp:56] Could not initialize NNPACK! Reason: Unsupported hardware.\n",
      "[W907 07:23:05.908422928 NNPACK.cpp:56] Could not initialize NNPACK! Reason: Unsupported hardware.\n",
      "[W907 07:23:05.908621118 NNPACK.cpp:56] Could not initialize NNPACK! Reason: Unsupported hardware.\n",
      "[W907 07:23:05.908817354 NNPACK.cpp:56] Could not initialize NNPACK! Reason: Unsupported hardware.\n"
     ]
    },
    {
     "name": "stdout",
     "output_type": "stream",
     "text": [
      "Processing Images  █████████████████████████░░░░░ 147 / 170 (86.47%)"
     ]
    },
    {
     "name": "stderr",
     "output_type": "stream",
     "text": [
      "[W907 07:23:06.689175922 NNPACK.cpp:56] Could not initialize NNPACK! Reason: Unsupported hardware.\n",
      "[W907 07:23:06.690771460 NNPACK.cpp:56] Could not initialize NNPACK! Reason: Unsupported hardware.\n",
      "[W907 07:23:06.698040490 NNPACK.cpp:56] Could not initialize NNPACK! Reason: Unsupported hardware.\n",
      "[W907 07:23:06.698483567 NNPACK.cpp:56] Could not initialize NNPACK! Reason: Unsupported hardware.\n"
     ]
    },
    {
     "name": "stdout",
     "output_type": "stream",
     "text": [
      "Processing Images  ██████████████████████████░░░░ 148 / 170 (87.06%)"
     ]
    },
    {
     "name": "stderr",
     "output_type": "stream",
     "text": [
      "[W907 07:23:07.443667879 NNPACK.cpp:56] Could not initialize NNPACK! Reason: Unsupported hardware.\n",
      "[W907 07:23:07.445262786 NNPACK.cpp:56] Could not initialize NNPACK! Reason: Unsupported hardware.\n",
      "[W907 07:23:07.445379995 NNPACK.cpp:56] Could not initialize NNPACK! Reason: Unsupported hardware.\n",
      "[W907 07:23:07.445521419 NNPACK.cpp:56] Could not initialize NNPACK! Reason: Unsupported hardware.\n"
     ]
    },
    {
     "name": "stdout",
     "output_type": "stream",
     "text": [
      "Processing Images  ██████████████████████████░░░░ 149 / 170 (87.65%)"
     ]
    },
    {
     "name": "stderr",
     "output_type": "stream",
     "text": [
      "[W907 07:23:08.473960087 NNPACK.cpp:56] Could not initialize NNPACK! Reason: Unsupported hardware.\n",
      "[W907 07:23:08.474878140 NNPACK.cpp:56] Could not initialize NNPACK! Reason: Unsupported hardware.\n",
      "[W907 07:23:08.475097059 NNPACK.cpp:56] Could not initialize NNPACK! Reason: Unsupported hardware.\n",
      "[W907 07:23:08.475425572 NNPACK.cpp:56] Could not initialize NNPACK! Reason: Unsupported hardware.\n"
     ]
    },
    {
     "name": "stdout",
     "output_type": "stream",
     "text": [
      "Processing Images  ██████████████████████████░░░░ 150 / 170 (88.24%)"
     ]
    },
    {
     "name": "stderr",
     "output_type": "stream",
     "text": [
      "[W907 07:23:08.094166533 NNPACK.cpp:56] Could not initialize NNPACK! Reason: Unsupported hardware.\n",
      "[W907 07:23:08.095495113 NNPACK.cpp:56] Could not initialize NNPACK! Reason: Unsupported hardware.\n",
      "[W907 07:23:08.095779885 NNPACK.cpp:56] Could not initialize NNPACK! Reason: Unsupported hardware.\n",
      "[W907 07:23:08.095961344 NNPACK.cpp:56] Could not initialize NNPACK! Reason: Unsupported hardware.\n"
     ]
    },
    {
     "name": "stdout",
     "output_type": "stream",
     "text": [
      "Processing Images  ██████████████████████████░░░░ 151 / 170 (88.82%)"
     ]
    },
    {
     "name": "stderr",
     "output_type": "stream",
     "text": [
      "[W907 07:23:09.007437349 NNPACK.cpp:56] Could not initialize NNPACK! Reason: Unsupported hardware.\n",
      "[W907 07:23:09.010033816 NNPACK.cpp:56] Could not initialize NNPACK! Reason: Unsupported hardware.\n",
      "[W907 07:23:09.010409427 NNPACK.cpp:56] Could not initialize NNPACK! Reason: Unsupported hardware.\n",
      "[W907 07:23:09.010570718 NNPACK.cpp:56] Could not initialize NNPACK! Reason: Unsupported hardware.\n"
     ]
    },
    {
     "name": "stdout",
     "output_type": "stream",
     "text": [
      "Processing Images  ██████████████████████████░░░░ 152 / 170 (89.41%)"
     ]
    },
    {
     "name": "stderr",
     "output_type": "stream",
     "text": [
      "[W907 07:23:10.512604184 NNPACK.cpp:56] Could not initialize NNPACK! Reason: Unsupported hardware.\n",
      "[W907 07:23:10.513070564 NNPACK.cpp:56] Could not initialize NNPACK! Reason: Unsupported hardware.\n",
      "[W907 07:23:10.513141937 NNPACK.cpp:56] Could not initialize NNPACK! Reason: Unsupported hardware.\n",
      "[W907 07:23:10.513213560 NNPACK.cpp:56] Could not initialize NNPACK! Reason: Unsupported hardware.\n"
     ]
    },
    {
     "name": "stdout",
     "output_type": "stream",
     "text": [
      "Processing Images  ███████████████████████████░░░ 153 / 170 (90.00%)"
     ]
    },
    {
     "name": "stderr",
     "output_type": "stream",
     "text": [
      "[W907 07:23:10.253566434 NNPACK.cpp:56] Could not initialize NNPACK! Reason: Unsupported hardware.\n",
      "[W907 07:23:10.254317045 NNPACK.cpp:56] Could not initialize NNPACK! Reason: Unsupported hardware.\n",
      "[W907 07:23:10.254495869 NNPACK.cpp:56] Could not initialize NNPACK! Reason: Unsupported hardware.\n",
      "[W907 07:23:10.254616113 NNPACK.cpp:56] Could not initialize NNPACK! Reason: Unsupported hardware.\n"
     ]
    },
    {
     "name": "stdout",
     "output_type": "stream",
     "text": [
      "Processing Images  ███████████████████████████░░░ 154 / 170 (90.59%)"
     ]
    },
    {
     "name": "stderr",
     "output_type": "stream",
     "text": [
      "[W907 07:23:11.969576192 NNPACK.cpp:56] Could not initialize NNPACK! Reason: Unsupported hardware.\n",
      "[W907 07:23:11.970327435 NNPACK.cpp:56] Could not initialize NNPACK! Reason: Unsupported hardware.\n",
      "[W907 07:23:11.970500077 NNPACK.cpp:56] Could not initialize NNPACK! Reason: Unsupported hardware.\n",
      "[W907 07:23:11.970620492 NNPACK.cpp:56] Could not initialize NNPACK! Reason: Unsupported hardware.\n"
     ]
    },
    {
     "name": "stdout",
     "output_type": "stream",
     "text": [
      "Processing Images  ███████████████████████████░░░ 155 / 170 (91.18%)"
     ]
    },
    {
     "name": "stderr",
     "output_type": "stream",
     "text": [
      "[W907 07:23:12.049208833 NNPACK.cpp:56] Could not initialize NNPACK! Reason: Unsupported hardware.\n",
      "[W907 07:23:12.049961227 NNPACK.cpp:56] Could not initialize NNPACK! Reason: Unsupported hardware.\n",
      "[W907 07:23:12.053300712 NNPACK.cpp:56] Could not initialize NNPACK! Reason: Unsupported hardware.\n",
      "[W907 07:23:12.058221067 NNPACK.cpp:56] Could not initialize NNPACK! Reason: Unsupported hardware.\n"
     ]
    },
    {
     "name": "stdout",
     "output_type": "stream",
     "text": [
      "Processing Images  ███████████████████████████░░░ 156 / 170 (91.76%)"
     ]
    },
    {
     "name": "stderr",
     "output_type": "stream",
     "text": [
      "[W907 07:23:13.115115098 NNPACK.cpp:56] Could not initialize NNPACK! Reason: Unsupported hardware.\n",
      "[W907 07:23:13.115883813 NNPACK.cpp:56] Could not initialize NNPACK! Reason: Unsupported hardware.\n",
      "[W907 07:23:13.116106128 NNPACK.cpp:56] Could not initialize NNPACK! Reason: Unsupported hardware.\n",
      "[W907 07:23:13.116258894 NNPACK.cpp:56] Could not initialize NNPACK! Reason: Unsupported hardware.\n"
     ]
    },
    {
     "name": "stdout",
     "output_type": "stream",
     "text": [
      "Processing Images  ███████████████████████████░░░ 157 / 170 (92.35%)"
     ]
    },
    {
     "name": "stderr",
     "output_type": "stream",
     "text": [
      "[W907 07:23:15.536621429 NNPACK.cpp:56] Could not initialize NNPACK! Reason: Unsupported hardware.\n",
      "[W907 07:23:15.538154270 NNPACK.cpp:56] Could not initialize NNPACK! Reason: Unsupported hardware.\n",
      "[W907 07:23:15.538402905 NNPACK.cpp:56] Could not initialize NNPACK! Reason: Unsupported hardware.\n",
      "[W907 07:23:15.538549378 NNPACK.cpp:56] Could not initialize NNPACK! Reason: Unsupported hardware.\n"
     ]
    },
    {
     "name": "stdout",
     "output_type": "stream",
     "text": [
      "Processing Images  ███████████████████████████░░░ 158 / 170 (92.94%)"
     ]
    },
    {
     "name": "stderr",
     "output_type": "stream",
     "text": [
      "[W907 07:23:16.172398664 NNPACK.cpp:56] Could not initialize NNPACK! Reason: Unsupported hardware.\n",
      "[W907 07:23:16.173183108 NNPACK.cpp:56] Could not initialize NNPACK! Reason: Unsupported hardware.\n",
      "[W907 07:23:16.173361541 NNPACK.cpp:56] Could not initialize NNPACK! Reason: Unsupported hardware.\n",
      "[W907 07:23:16.173434838 NNPACK.cpp:56] Could not initialize NNPACK! Reason: Unsupported hardware.\n"
     ]
    },
    {
     "name": "stdout",
     "output_type": "stream",
     "text": [
      "Processing Images  ████████████████████████████░░ 159 / 170 (93.53%)"
     ]
    },
    {
     "name": "stderr",
     "output_type": "stream",
     "text": [
      "[W907 07:23:17.664683059 NNPACK.cpp:56] Could not initialize NNPACK! Reason: Unsupported hardware.\n",
      "[W907 07:23:17.666167500 NNPACK.cpp:56] Could not initialize NNPACK! Reason: Unsupported hardware.\n",
      "[W907 07:23:17.666446482 NNPACK.cpp:56] Could not initialize NNPACK! Reason: Unsupported hardware.\n",
      "[W907 07:23:17.666604917 NNPACK.cpp:56] Could not initialize NNPACK! Reason: Unsupported hardware.\n"
     ]
    },
    {
     "name": "stdout",
     "output_type": "stream",
     "text": [
      "Processing Images  ████████████████████████████░░ 160 / 170 (94.12%)"
     ]
    },
    {
     "name": "stderr",
     "output_type": "stream",
     "text": [
      "[W907 07:23:17.164607217 NNPACK.cpp:56] Could not initialize NNPACK! Reason: Unsupported hardware.\n",
      "[W907 07:23:17.165326099 NNPACK.cpp:56] Could not initialize NNPACK! Reason: Unsupported hardware.\n",
      "[W907 07:23:17.165395008 NNPACK.cpp:56] Could not initialize NNPACK! Reason: Unsupported hardware.\n",
      "[W907 07:23:17.165467674 NNPACK.cpp:56] Could not initialize NNPACK! Reason: Unsupported hardware.\n"
     ]
    },
    {
     "name": "stdout",
     "output_type": "stream",
     "text": [
      "Processing Images  ████████████████████████████░░ 161 / 170 (94.71%)"
     ]
    },
    {
     "name": "stderr",
     "output_type": "stream",
     "text": [
      "[W907 07:23:18.746565291 NNPACK.cpp:56] Could not initialize NNPACK! Reason: Unsupported hardware.\n",
      "[W907 07:23:18.747444954 NNPACK.cpp:56] Could not initialize NNPACK! Reason: Unsupported hardware.\n",
      "[W907 07:23:18.747624739 NNPACK.cpp:56] Could not initialize NNPACK! Reason: Unsupported hardware.\n",
      "[W907 07:23:18.747766013 NNPACK.cpp:56] Could not initialize NNPACK! Reason: Unsupported hardware.\n"
     ]
    },
    {
     "name": "stdout",
     "output_type": "stream",
     "text": [
      "Processing Images  ████████████████████████████░░ 162 / 170 (95.29%)"
     ]
    },
    {
     "name": "stderr",
     "output_type": "stream",
     "text": [
      "[W907 07:23:19.541614937 NNPACK.cpp:56] Could not initialize NNPACK! Reason: Unsupported hardware.\n",
      "[W907 07:23:19.542370327 NNPACK.cpp:56] Could not initialize NNPACK! Reason: Unsupported hardware.\n",
      "[W907 07:23:19.542448153 NNPACK.cpp:56] Could not initialize NNPACK! Reason: Unsupported hardware.\n",
      "[W907 07:23:19.542520688 NNPACK.cpp:56] Could not initialize NNPACK! Reason: Unsupported hardware.\n"
     ]
    },
    {
     "name": "stdout",
     "output_type": "stream",
     "text": [
      "Processing Images  ████████████████████████████░░ 163 / 170 (95.88%)"
     ]
    },
    {
     "name": "stderr",
     "output_type": "stream",
     "text": [
      "[W907 07:23:20.489956999 NNPACK.cpp:56] Could not initialize NNPACK! Reason: Unsupported hardware.\n",
      "[W907 07:23:20.490819990 NNPACK.cpp:56] Could not initialize NNPACK! Reason: Unsupported hardware.\n",
      "[W907 07:23:20.490977013 NNPACK.cpp:56] Could not initialize NNPACK! Reason: Unsupported hardware.\n",
      "[W907 07:23:20.491154544 NNPACK.cpp:56] Could not initialize NNPACK! Reason: Unsupported hardware.\n"
     ]
    },
    {
     "name": "stdout",
     "output_type": "stream",
     "text": [
      "Processing Images  ████████████████████████████░░ 164 / 170 (96.47%)"
     ]
    },
    {
     "name": "stderr",
     "output_type": "stream",
     "text": [
      "[W907 07:23:20.107773285 NNPACK.cpp:56] Could not initialize NNPACK! Reason: Unsupported hardware.\n",
      "[W907 07:23:20.108572908 NNPACK.cpp:56] Could not initialize NNPACK! Reason: Unsupported hardware.\n",
      "[W907 07:23:20.108764796 NNPACK.cpp:56] Could not initialize NNPACK! Reason: Unsupported hardware.\n",
      "[W907 07:23:20.108908365 NNPACK.cpp:56] Could not initialize NNPACK! Reason: Unsupported hardware.\n"
     ]
    },
    {
     "name": "stdout",
     "output_type": "stream",
     "text": [
      "Processing Images  █████████████████████████████░ 165 / 170 (97.06%)"
     ]
    },
    {
     "name": "stderr",
     "output_type": "stream",
     "text": [
      "[W907 07:23:21.846567020 NNPACK.cpp:56] Could not initialize NNPACK! Reason: Unsupported hardware.\n",
      "[W907 07:23:21.847379005 NNPACK.cpp:56] Could not initialize NNPACK! Reason: Unsupported hardware.\n",
      "[W907 07:23:21.847728818 NNPACK.cpp:56] Could not initialize NNPACK! Reason: Unsupported hardware.\n",
      "[W907 07:23:21.847803488 NNPACK.cpp:56] Could not initialize NNPACK! Reason: Unsupported hardware.\n"
     ]
    },
    {
     "name": "stdout",
     "output_type": "stream",
     "text": [
      "Processing Images  █████████████████████████████░ 166 / 170 (97.65%)"
     ]
    },
    {
     "name": "stderr",
     "output_type": "stream",
     "text": [
      "[W907 07:23:22.520828732 NNPACK.cpp:56] Could not initialize NNPACK! Reason: Unsupported hardware.\n",
      "[W907 07:23:22.521555329 NNPACK.cpp:56] Could not initialize NNPACK! Reason: Unsupported hardware.\n",
      "[W907 07:23:22.521628114 NNPACK.cpp:56] Could not initialize NNPACK! Reason: Unsupported hardware.\n",
      "[W907 07:23:22.521699307 NNPACK.cpp:56] Could not initialize NNPACK! Reason: Unsupported hardware.\n"
     ]
    },
    {
     "name": "stdout",
     "output_type": "stream",
     "text": [
      "Processing Images  █████████████████████████████░ 167 / 170 (98.24%)"
     ]
    },
    {
     "name": "stderr",
     "output_type": "stream",
     "text": [
      "[W907 07:23:22.135779971 NNPACK.cpp:56] Could not initialize NNPACK! Reason: Unsupported hardware.\n",
      "[W907 07:23:22.136517757 NNPACK.cpp:56] Could not initialize NNPACK! Reason: Unsupported hardware.\n",
      "[W907 07:23:22.136694798 NNPACK.cpp:56] Could not initialize NNPACK! Reason: Unsupported hardware.\n",
      "[W907 07:23:22.136818619 NNPACK.cpp:56] Could not initialize NNPACK! Reason: Unsupported hardware.\n"
     ]
    },
    {
     "name": "stdout",
     "output_type": "stream",
     "text": [
      "Processing Images  █████████████████████████████░ 168 / 170 (98.82%)"
     ]
    },
    {
     "name": "stderr",
     "output_type": "stream",
     "text": [
      "[W907 07:23:23.544989177 NNPACK.cpp:56] Could not initialize NNPACK! Reason: Unsupported hardware.\n",
      "[W907 07:23:23.545717326 NNPACK.cpp:56] Could not initialize NNPACK! Reason: Unsupported hardware.\n",
      "[W907 07:23:23.545858290 NNPACK.cpp:56] Could not initialize NNPACK! Reason: Unsupported hardware.\n",
      "[W907 07:23:23.545980398 NNPACK.cpp:56] Could not initialize NNPACK! Reason: Unsupported hardware.\n"
     ]
    },
    {
     "name": "stdout",
     "output_type": "stream",
     "text": [
      "Processing Images  █████████████████████████████░ 169 / 170 (99.41%)"
     ]
    },
    {
     "name": "stderr",
     "output_type": "stream",
     "text": [
      "[W907 07:23:23.018106250 NNPACK.cpp:56] Could not initialize NNPACK! Reason: Unsupported hardware.\n",
      "[W907 07:23:23.018810034 NNPACK.cpp:56] Could not initialize NNPACK! Reason: Unsupported hardware.\n",
      "[W907 07:23:23.018955045 NNPACK.cpp:56] Could not initialize NNPACK! Reason: Unsupported hardware.\n",
      "[W907 07:23:23.019095829 NNPACK.cpp:56] Could not initialize NNPACK! Reason: Unsupported hardware.\n"
     ]
    },
    {
     "name": "stdout",
     "output_type": "stream",
     "text": [
      "Processing Images  ██████████████████████████████ 170 / 170 (100.00%)Calculating mAP...\n",
      "\n",
      "       |  all  |  .50  |  .55  |  .60  |  .65  |  .70  |  .75  |  .80  |  .85  |  .90  |  .95  |\n",
      "-------+-------+-------+-------+-------+-------+-------+-------+-------+-------+-------+-------+\n",
      "   box |  0.00 |  0.00 |  0.00 |  0.00 |  0.00 |  0.00 |  0.00 |  0.00 |  0.00 |  0.00 |  0.00 |\n",
      "  mask |  0.00 |  0.00 |  0.00 |  0.00 |  0.00 |  0.00 |  0.00 |  0.00 |  0.00 |  0.00 |  0.00 |\n",
      "-------+-------+-------+-------+-------+-------+-------+-------+-------+-------+-------+-------+\n",
      "\n",
      "\n",
      "       |  all  |  .50  |  .55  |  .60  |  .65  |  .70  |  .75  |  .80  |  .85  |  .90  |  .95  |\n",
      "-------+-------+-------+-------+-------+-------+-------+-------+-------+-------+-------+-------+\n",
      "   box |  0.00 |  0.00 |  0.00 |  0.00 |  0.00 |  0.00 |  0.00 |  0.00 |  0.00 |  0.00 |  0.00 |\n",
      "  mask |  0.00 |  0.00 |  0.00 |  0.00 |  0.00 |  0.00 |  0.00 |  0.00 |  0.00 |  0.00 |  0.00 |\n",
      "-------+-------+-------+-------+-------+-------+-------+-------+-------+-------+-------+-------+\n",
      "\n"
     ]
    }
   ],
   "source": [
    "# --- Load your trained model and run evaluation ---\n",
    "from utils.augmentations import BaseTransform # FIX: Add this import statement\n",
    "\n",
    "# Set the device based on the USE_CUDA flag from your config cell\n",
    "device = torch.device('cuda' if USE_CUDA and torch.cuda.is_available() else 'cpu')\n",
    "print(device)\n",
    "\n",
    "# 1. Create the model and move it to the correct device\n",
    "net = Yolact().to(device)\n",
    "\n",
    "# 2. Load the weights you trained\n",
    "# Make sure the path is correct (e.g., yolact_custom_final.pth)\n",
    "trained_model_path = 'weights/yolact_custom_final.pth' \n",
    "net.load_weights(trained_model_path)\n",
    "# net.load_weights(trained_model_path, device=device)\n",
    "print(f\"Loaded trained weights from: {trained_model_path}\")\n",
    "\n",
    "# 3. Create the validation dataset\n",
    "val_dataset = COCODetection(image_path=cfg.dataset.valid_images,\n",
    "                              info_file=cfg.dataset.valid_info,\n",
    "                              transform=BaseTransform())\n",
    "\n",
    "# 4. Prepare the COCO category mappings (THE FIX)\n",
    "prep_coco_cats()\n",
    "\n",
    "# 5. Run the evaluation\n",
    "all_maps = evaluate(net, val_dataset, device)\n",
    "\n",
    "# 6. Print the results\n",
    "if all_maps:\n",
    "    print_maps(all_maps)"
   ]
  }
 ],
 "metadata": {
  "kernelspec": {
   "display_name": "myenv",
   "language": "python",
   "name": "myenv"
  },
  "language_info": {
   "codemirror_mode": {
    "name": "ipython",
    "version": 3
   },
   "file_extension": ".py",
   "mimetype": "text/x-python",
   "name": "python",
   "nbconvert_exporter": "python",
   "pygments_lexer": "ipython3",
   "version": "3.11.13"
  }
 },
 "nbformat": 4,
 "nbformat_minor": 5
}
